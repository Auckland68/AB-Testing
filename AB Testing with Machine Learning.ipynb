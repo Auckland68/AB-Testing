{
 "cells": [
  {
   "cell_type": "markdown",
   "id": "d3024f2c",
   "metadata": {},
   "source": [
    "# AB Testing with Machine Learning"
   ]
  },
  {
   "cell_type": "markdown",
   "id": "86b7ef0a",
   "metadata": {},
   "source": [
    "Problem Statement\n",
    "\n",
    "Experiment Name: “Free Trial” Screener\n",
    "\n",
    "* In the experiment, Udacity tested a change where if the student clicked “start free trial”, they were asked how much time they had available to devote to the course.\n",
    "\n",
    "* If the student indicated 5 or more hours per week, they would be taken through the checkout process as usual. If they indicated fewer than 5 hours per week, a message would appear indicating that Udacity courses usually require a greater time commitment for successful completion.\n",
    "\n",
    "* The goal was to set clear expectations upfront, reducing the number leaving the free trial because they didn’t have enough time.\n",
    "\n",
    "* They did not want to “significantly” reduce the number of students that continue past the free trial and eventually complete the course.\n",
    "\n",
    "* In this notebook we will investigate whether we can predict an enrolments based on the number of clicks, page views, payments and whether they are in the control group or treatment group - what causes people to enrol in a course?\n",
    "\n",
    "* The notebook is adapted from [AB Testing with Machine Learning in R](https://www.business-science.io/business/2019/03/11/ab-testing-machine-learning.html)\n",
    "\n",
    "* Please note the word enrolments (English spelling) is spelt this way or the American way enrollments interchangeably throughout the notebook"
   ]
  },
  {
   "cell_type": "markdown",
   "id": "54beffd5",
   "metadata": {},
   "source": [
    "## Import Libraries and Data"
   ]
  },
  {
   "cell_type": "code",
   "execution_count": 923,
   "id": "28681594",
   "metadata": {},
   "outputs": [],
   "source": [
    "import pandas as pd\n",
    "import numpy as np\n",
    "import matplotlib.pyplot as plt\n",
    "import seaborn as sns\n",
    "import statsmodels.api as sm\n",
    "from scipy import stats\n",
    "from dython.nominal import associations\n",
    "\n",
    "from sklearn.model_selection import train_test_split, GridSearchCV\n",
    "from sklearn.preprocessing import MinMaxScaler, OneHotEncoder\n",
    "from sklearn.metrics import r2_score, mean_squared_error\n",
    "\n",
    "from sklearn.linear_model import LinearRegression\n",
    "from sklearn.ensemble import RandomForestRegressor\n",
    "from sklearn.svm import SVR"
   ]
  },
  {
   "cell_type": "code",
   "execution_count": null,
   "id": "369410b1",
   "metadata": {},
   "outputs": [],
   "source": [
    "sklearn.metrics import "
   ]
  },
  {
   "cell_type": "code",
   "execution_count": 472,
   "id": "7a66b45e",
   "metadata": {},
   "outputs": [],
   "source": [
    "df_control = pd.read_csv(\"C:/Users/imoge/Projects/Datasets/enrol_control_data.csv\", index_col=False)\n",
    "df_exp = pd.read_csv(\"C:/Users/imoge/Projects/Datasets/enrol_experiment_data.csv\")"
   ]
  },
  {
   "cell_type": "markdown",
   "id": "6764cf15",
   "metadata": {},
   "source": [
    "Dataset:\n",
    "\n",
    "* Date: a character formatted Day, Month, and Day of Month\n",
    "* Pageviews: An aggregated count of Page Views on the given day\n",
    "* Clicks: An aggregated count of Page Clicks on the given day for the page in question\n",
    "* Enrolments: An aggregated count of Enrolments by day.\n",
    "* Payments: An aggregated count of Payments by day."
   ]
  },
  {
   "cell_type": "markdown",
   "id": "ca457d85",
   "metadata": {},
   "source": [
    "## Data Preparation"
   ]
  },
  {
   "cell_type": "code",
   "execution_count": 473,
   "id": "424dd0bf",
   "metadata": {},
   "outputs": [
    {
     "data": {
      "text/plain": [
       "((37, 5), (37, 5))"
      ]
     },
     "execution_count": 473,
     "metadata": {},
     "output_type": "execute_result"
    }
   ],
   "source": [
    "df_control.shape, df_exp.shape"
   ]
  },
  {
   "cell_type": "code",
   "execution_count": 474,
   "id": "fb07988b",
   "metadata": {},
   "outputs": [
    {
     "data": {
      "text/html": [
       "<div>\n",
       "<style scoped>\n",
       "    .dataframe tbody tr th:only-of-type {\n",
       "        vertical-align: middle;\n",
       "    }\n",
       "\n",
       "    .dataframe tbody tr th {\n",
       "        vertical-align: top;\n",
       "    }\n",
       "\n",
       "    .dataframe thead th {\n",
       "        text-align: right;\n",
       "    }\n",
       "</style>\n",
       "<table border=\"1\" class=\"dataframe\">\n",
       "  <thead>\n",
       "    <tr style=\"text-align: right;\">\n",
       "      <th></th>\n",
       "      <th>Date</th>\n",
       "      <th>Pageviews</th>\n",
       "      <th>Clicks</th>\n",
       "      <th>Enrollments</th>\n",
       "      <th>Payments</th>\n",
       "    </tr>\n",
       "  </thead>\n",
       "  <tbody>\n",
       "    <tr>\n",
       "      <th>0</th>\n",
       "      <td>Sat, Oct 11</td>\n",
       "      <td>7723</td>\n",
       "      <td>687</td>\n",
       "      <td>134.00</td>\n",
       "      <td>70.00</td>\n",
       "    </tr>\n",
       "    <tr>\n",
       "      <th>1</th>\n",
       "      <td>Sun, Oct 12</td>\n",
       "      <td>9102</td>\n",
       "      <td>779</td>\n",
       "      <td>147.00</td>\n",
       "      <td>70.00</td>\n",
       "    </tr>\n",
       "    <tr>\n",
       "      <th>2</th>\n",
       "      <td>Mon, Oct 13</td>\n",
       "      <td>10511</td>\n",
       "      <td>909</td>\n",
       "      <td>167.00</td>\n",
       "      <td>95.00</td>\n",
       "    </tr>\n",
       "    <tr>\n",
       "      <th>3</th>\n",
       "      <td>Tue, Oct 14</td>\n",
       "      <td>9871</td>\n",
       "      <td>836</td>\n",
       "      <td>156.00</td>\n",
       "      <td>105.00</td>\n",
       "    </tr>\n",
       "    <tr>\n",
       "      <th>4</th>\n",
       "      <td>Wed, Oct 15</td>\n",
       "      <td>10014</td>\n",
       "      <td>837</td>\n",
       "      <td>163.00</td>\n",
       "      <td>64.00</td>\n",
       "    </tr>\n",
       "  </tbody>\n",
       "</table>\n",
       "</div>"
      ],
      "text/plain": [
       "          Date  Pageviews  Clicks  Enrollments  Payments\n",
       "0  Sat, Oct 11       7723     687       134.00     70.00\n",
       "1  Sun, Oct 12       9102     779       147.00     70.00\n",
       "2  Mon, Oct 13      10511     909       167.00     95.00\n",
       "3  Tue, Oct 14       9871     836       156.00    105.00\n",
       "4  Wed, Oct 15      10014     837       163.00     64.00"
      ]
     },
     "execution_count": 474,
     "metadata": {},
     "output_type": "execute_result"
    }
   ],
   "source": [
    "df_control.head()"
   ]
  },
  {
   "cell_type": "code",
   "execution_count": 475,
   "id": "c6d70798",
   "metadata": {},
   "outputs": [
    {
     "name": "stdout",
     "output_type": "stream",
     "text": [
      "<class 'pandas.core.frame.DataFrame'>\n",
      "RangeIndex: 37 entries, 0 to 36\n",
      "Data columns (total 5 columns):\n",
      " #   Column       Non-Null Count  Dtype  \n",
      "---  ------       --------------  -----  \n",
      " 0   Date         37 non-null     object \n",
      " 1   Pageviews    37 non-null     int64  \n",
      " 2   Clicks       37 non-null     int64  \n",
      " 3   Enrollments  23 non-null     float64\n",
      " 4   Payments     23 non-null     float64\n",
      "dtypes: float64(2), int64(2), object(1)\n",
      "memory usage: 1.6+ KB\n"
     ]
    }
   ],
   "source": [
    "df_control.info()"
   ]
  },
  {
   "cell_type": "code",
   "execution_count": 476,
   "id": "98d5b1f2",
   "metadata": {},
   "outputs": [
    {
     "name": "stdout",
     "output_type": "stream",
     "text": [
      "<class 'pandas.core.frame.DataFrame'>\n",
      "RangeIndex: 37 entries, 0 to 36\n",
      "Data columns (total 5 columns):\n",
      " #   Column       Non-Null Count  Dtype  \n",
      "---  ------       --------------  -----  \n",
      " 0   Date         37 non-null     object \n",
      " 1   Pageviews    37 non-null     int64  \n",
      " 2   Clicks       37 non-null     int64  \n",
      " 3   Enrollments  23 non-null     float64\n",
      " 4   Payments     23 non-null     float64\n",
      "dtypes: float64(2), int64(2), object(1)\n",
      "memory usage: 1.6+ KB\n"
     ]
    }
   ],
   "source": [
    "df_exp.info()"
   ]
  },
  {
   "cell_type": "markdown",
   "id": "5976e185",
   "metadata": {},
   "source": [
    "We have some missing data"
   ]
  },
  {
   "cell_type": "code",
   "execution_count": 477,
   "id": "2acb7163",
   "metadata": {},
   "outputs": [
    {
     "data": {
      "text/plain": [
       "Date            0\n",
       "Pageviews       0\n",
       "Clicks          0\n",
       "Enrollments    14\n",
       "Payments       14\n",
       "dtype: int64"
      ]
     },
     "execution_count": 477,
     "metadata": {},
     "output_type": "execute_result"
    }
   ],
   "source": [
    "df_control.isnull().sum()"
   ]
  },
  {
   "cell_type": "code",
   "execution_count": 478,
   "id": "14c2cf72",
   "metadata": {},
   "outputs": [
    {
     "data": {
      "text/plain": [
       "Date            0\n",
       "Pageviews       0\n",
       "Clicks          0\n",
       "Enrollments    14\n",
       "Payments       14\n",
       "dtype: int64"
      ]
     },
     "execution_count": 478,
     "metadata": {},
     "output_type": "execute_result"
    }
   ],
   "source": [
    "df_exp.isnull().sum()"
   ]
  },
  {
   "cell_type": "code",
   "execution_count": 479,
   "id": "566b45ad",
   "metadata": {},
   "outputs": [
    {
     "data": {
      "text/html": [
       "<div>\n",
       "<style scoped>\n",
       "    .dataframe tbody tr th:only-of-type {\n",
       "        vertical-align: middle;\n",
       "    }\n",
       "\n",
       "    .dataframe tbody tr th {\n",
       "        vertical-align: top;\n",
       "    }\n",
       "\n",
       "    .dataframe thead th {\n",
       "        text-align: right;\n",
       "    }\n",
       "</style>\n",
       "<table border=\"1\" class=\"dataframe\">\n",
       "  <thead>\n",
       "    <tr style=\"text-align: right;\">\n",
       "      <th></th>\n",
       "      <th>Date</th>\n",
       "      <th>Pageviews</th>\n",
       "      <th>Clicks</th>\n",
       "      <th>Enrollments</th>\n",
       "      <th>Payments</th>\n",
       "    </tr>\n",
       "  </thead>\n",
       "  <tbody>\n",
       "    <tr>\n",
       "      <th>23</th>\n",
       "      <td>Mon, Nov 3</td>\n",
       "      <td>9437</td>\n",
       "      <td>788</td>\n",
       "      <td>NaN</td>\n",
       "      <td>NaN</td>\n",
       "    </tr>\n",
       "    <tr>\n",
       "      <th>24</th>\n",
       "      <td>Tue, Nov 4</td>\n",
       "      <td>9420</td>\n",
       "      <td>781</td>\n",
       "      <td>NaN</td>\n",
       "      <td>NaN</td>\n",
       "    </tr>\n",
       "    <tr>\n",
       "      <th>25</th>\n",
       "      <td>Wed, Nov 5</td>\n",
       "      <td>9570</td>\n",
       "      <td>805</td>\n",
       "      <td>NaN</td>\n",
       "      <td>NaN</td>\n",
       "    </tr>\n",
       "    <tr>\n",
       "      <th>26</th>\n",
       "      <td>Thu, Nov 6</td>\n",
       "      <td>9921</td>\n",
       "      <td>830</td>\n",
       "      <td>NaN</td>\n",
       "      <td>NaN</td>\n",
       "    </tr>\n",
       "    <tr>\n",
       "      <th>27</th>\n",
       "      <td>Fri, Nov 7</td>\n",
       "      <td>9424</td>\n",
       "      <td>781</td>\n",
       "      <td>NaN</td>\n",
       "      <td>NaN</td>\n",
       "    </tr>\n",
       "    <tr>\n",
       "      <th>28</th>\n",
       "      <td>Sat, Nov 8</td>\n",
       "      <td>9010</td>\n",
       "      <td>756</td>\n",
       "      <td>NaN</td>\n",
       "      <td>NaN</td>\n",
       "    </tr>\n",
       "    <tr>\n",
       "      <th>29</th>\n",
       "      <td>Sun, Nov 9</td>\n",
       "      <td>9656</td>\n",
       "      <td>825</td>\n",
       "      <td>NaN</td>\n",
       "      <td>NaN</td>\n",
       "    </tr>\n",
       "    <tr>\n",
       "      <th>30</th>\n",
       "      <td>Mon, Nov 10</td>\n",
       "      <td>10419</td>\n",
       "      <td>874</td>\n",
       "      <td>NaN</td>\n",
       "      <td>NaN</td>\n",
       "    </tr>\n",
       "    <tr>\n",
       "      <th>31</th>\n",
       "      <td>Tue, Nov 11</td>\n",
       "      <td>9880</td>\n",
       "      <td>830</td>\n",
       "      <td>NaN</td>\n",
       "      <td>NaN</td>\n",
       "    </tr>\n",
       "    <tr>\n",
       "      <th>32</th>\n",
       "      <td>Wed, Nov 12</td>\n",
       "      <td>10134</td>\n",
       "      <td>801</td>\n",
       "      <td>NaN</td>\n",
       "      <td>NaN</td>\n",
       "    </tr>\n",
       "    <tr>\n",
       "      <th>33</th>\n",
       "      <td>Thu, Nov 13</td>\n",
       "      <td>9717</td>\n",
       "      <td>814</td>\n",
       "      <td>NaN</td>\n",
       "      <td>NaN</td>\n",
       "    </tr>\n",
       "    <tr>\n",
       "      <th>34</th>\n",
       "      <td>Fri, Nov 14</td>\n",
       "      <td>9192</td>\n",
       "      <td>735</td>\n",
       "      <td>NaN</td>\n",
       "      <td>NaN</td>\n",
       "    </tr>\n",
       "    <tr>\n",
       "      <th>35</th>\n",
       "      <td>Sat, Nov 15</td>\n",
       "      <td>8630</td>\n",
       "      <td>743</td>\n",
       "      <td>NaN</td>\n",
       "      <td>NaN</td>\n",
       "    </tr>\n",
       "    <tr>\n",
       "      <th>36</th>\n",
       "      <td>Sun, Nov 16</td>\n",
       "      <td>8970</td>\n",
       "      <td>722</td>\n",
       "      <td>NaN</td>\n",
       "      <td>NaN</td>\n",
       "    </tr>\n",
       "  </tbody>\n",
       "</table>\n",
       "</div>"
      ],
      "text/plain": [
       "           Date  Pageviews  Clicks  Enrollments  Payments\n",
       "23   Mon, Nov 3       9437     788          NaN       NaN\n",
       "24   Tue, Nov 4       9420     781          NaN       NaN\n",
       "25   Wed, Nov 5       9570     805          NaN       NaN\n",
       "26   Thu, Nov 6       9921     830          NaN       NaN\n",
       "27   Fri, Nov 7       9424     781          NaN       NaN\n",
       "28   Sat, Nov 8       9010     756          NaN       NaN\n",
       "29   Sun, Nov 9       9656     825          NaN       NaN\n",
       "30  Mon, Nov 10      10419     874          NaN       NaN\n",
       "31  Tue, Nov 11       9880     830          NaN       NaN\n",
       "32  Wed, Nov 12      10134     801          NaN       NaN\n",
       "33  Thu, Nov 13       9717     814          NaN       NaN\n",
       "34  Fri, Nov 14       9192     735          NaN       NaN\n",
       "35  Sat, Nov 15       8630     743          NaN       NaN\n",
       "36  Sun, Nov 16       8970     722          NaN       NaN"
      ]
     },
     "execution_count": 479,
     "metadata": {},
     "output_type": "execute_result"
    }
   ],
   "source": [
    "# Find rows with missing values in training set\n",
    "df_control[df_control.isna().any(axis=1)]"
   ]
  },
  {
   "cell_type": "code",
   "execution_count": 480,
   "id": "3f9394b4",
   "metadata": {},
   "outputs": [
    {
     "data": {
      "text/html": [
       "<div>\n",
       "<style scoped>\n",
       "    .dataframe tbody tr th:only-of-type {\n",
       "        vertical-align: middle;\n",
       "    }\n",
       "\n",
       "    .dataframe tbody tr th {\n",
       "        vertical-align: top;\n",
       "    }\n",
       "\n",
       "    .dataframe thead th {\n",
       "        text-align: right;\n",
       "    }\n",
       "</style>\n",
       "<table border=\"1\" class=\"dataframe\">\n",
       "  <thead>\n",
       "    <tr style=\"text-align: right;\">\n",
       "      <th></th>\n",
       "      <th>Date</th>\n",
       "      <th>Pageviews</th>\n",
       "      <th>Clicks</th>\n",
       "      <th>Enrollments</th>\n",
       "      <th>Payments</th>\n",
       "    </tr>\n",
       "  </thead>\n",
       "  <tbody>\n",
       "    <tr>\n",
       "      <th>23</th>\n",
       "      <td>Mon, Nov 3</td>\n",
       "      <td>9359</td>\n",
       "      <td>789</td>\n",
       "      <td>NaN</td>\n",
       "      <td>NaN</td>\n",
       "    </tr>\n",
       "    <tr>\n",
       "      <th>24</th>\n",
       "      <td>Tue, Nov 4</td>\n",
       "      <td>9427</td>\n",
       "      <td>743</td>\n",
       "      <td>NaN</td>\n",
       "      <td>NaN</td>\n",
       "    </tr>\n",
       "    <tr>\n",
       "      <th>25</th>\n",
       "      <td>Wed, Nov 5</td>\n",
       "      <td>9633</td>\n",
       "      <td>808</td>\n",
       "      <td>NaN</td>\n",
       "      <td>NaN</td>\n",
       "    </tr>\n",
       "    <tr>\n",
       "      <th>26</th>\n",
       "      <td>Thu, Nov 6</td>\n",
       "      <td>9842</td>\n",
       "      <td>831</td>\n",
       "      <td>NaN</td>\n",
       "      <td>NaN</td>\n",
       "    </tr>\n",
       "    <tr>\n",
       "      <th>27</th>\n",
       "      <td>Fri, Nov 7</td>\n",
       "      <td>9272</td>\n",
       "      <td>767</td>\n",
       "      <td>NaN</td>\n",
       "      <td>NaN</td>\n",
       "    </tr>\n",
       "    <tr>\n",
       "      <th>28</th>\n",
       "      <td>Sat, Nov 8</td>\n",
       "      <td>8969</td>\n",
       "      <td>760</td>\n",
       "      <td>NaN</td>\n",
       "      <td>NaN</td>\n",
       "    </tr>\n",
       "    <tr>\n",
       "      <th>29</th>\n",
       "      <td>Sun, Nov 9</td>\n",
       "      <td>9697</td>\n",
       "      <td>850</td>\n",
       "      <td>NaN</td>\n",
       "      <td>NaN</td>\n",
       "    </tr>\n",
       "    <tr>\n",
       "      <th>30</th>\n",
       "      <td>Mon, Nov 10</td>\n",
       "      <td>10445</td>\n",
       "      <td>851</td>\n",
       "      <td>NaN</td>\n",
       "      <td>NaN</td>\n",
       "    </tr>\n",
       "    <tr>\n",
       "      <th>31</th>\n",
       "      <td>Tue, Nov 11</td>\n",
       "      <td>9931</td>\n",
       "      <td>831</td>\n",
       "      <td>NaN</td>\n",
       "      <td>NaN</td>\n",
       "    </tr>\n",
       "    <tr>\n",
       "      <th>32</th>\n",
       "      <td>Wed, Nov 12</td>\n",
       "      <td>10042</td>\n",
       "      <td>802</td>\n",
       "      <td>NaN</td>\n",
       "      <td>NaN</td>\n",
       "    </tr>\n",
       "    <tr>\n",
       "      <th>33</th>\n",
       "      <td>Thu, Nov 13</td>\n",
       "      <td>9721</td>\n",
       "      <td>829</td>\n",
       "      <td>NaN</td>\n",
       "      <td>NaN</td>\n",
       "    </tr>\n",
       "    <tr>\n",
       "      <th>34</th>\n",
       "      <td>Fri, Nov 14</td>\n",
       "      <td>9304</td>\n",
       "      <td>770</td>\n",
       "      <td>NaN</td>\n",
       "      <td>NaN</td>\n",
       "    </tr>\n",
       "    <tr>\n",
       "      <th>35</th>\n",
       "      <td>Sat, Nov 15</td>\n",
       "      <td>8668</td>\n",
       "      <td>724</td>\n",
       "      <td>NaN</td>\n",
       "      <td>NaN</td>\n",
       "    </tr>\n",
       "    <tr>\n",
       "      <th>36</th>\n",
       "      <td>Sun, Nov 16</td>\n",
       "      <td>8988</td>\n",
       "      <td>710</td>\n",
       "      <td>NaN</td>\n",
       "      <td>NaN</td>\n",
       "    </tr>\n",
       "  </tbody>\n",
       "</table>\n",
       "</div>"
      ],
      "text/plain": [
       "           Date  Pageviews  Clicks  Enrollments  Payments\n",
       "23   Mon, Nov 3       9359     789          NaN       NaN\n",
       "24   Tue, Nov 4       9427     743          NaN       NaN\n",
       "25   Wed, Nov 5       9633     808          NaN       NaN\n",
       "26   Thu, Nov 6       9842     831          NaN       NaN\n",
       "27   Fri, Nov 7       9272     767          NaN       NaN\n",
       "28   Sat, Nov 8       8969     760          NaN       NaN\n",
       "29   Sun, Nov 9       9697     850          NaN       NaN\n",
       "30  Mon, Nov 10      10445     851          NaN       NaN\n",
       "31  Tue, Nov 11       9931     831          NaN       NaN\n",
       "32  Wed, Nov 12      10042     802          NaN       NaN\n",
       "33  Thu, Nov 13       9721     829          NaN       NaN\n",
       "34  Fri, Nov 14       9304     770          NaN       NaN\n",
       "35  Sat, Nov 15       8668     724          NaN       NaN\n",
       "36  Sun, Nov 16       8988     710          NaN       NaN"
      ]
     },
     "execution_count": 480,
     "metadata": {},
     "output_type": "execute_result"
    }
   ],
   "source": [
    "# Find rows with missing values in test set\n",
    "df_exp[df_exp.isna().any(axis=1)]"
   ]
  },
  {
   "cell_type": "markdown",
   "id": "ec6b0054",
   "metadata": {},
   "source": [
    "* These all seem to be related to November. \n",
    "* We will drop these rows"
   ]
  },
  {
   "cell_type": "code",
   "execution_count": 481,
   "id": "44cfd4ab",
   "metadata": {},
   "outputs": [],
   "source": [
    "df_control.dropna(inplace = True)\n",
    "df_exp.dropna(inplace = True)"
   ]
  },
  {
   "cell_type": "code",
   "execution_count": 482,
   "id": "c333489a",
   "metadata": {},
   "outputs": [
    {
     "data": {
      "text/plain": [
       "((23, 5), (23, 5))"
      ]
     },
     "execution_count": 482,
     "metadata": {},
     "output_type": "execute_result"
    }
   ],
   "source": [
    "df_control.shape, df_exp.shape"
   ]
  },
  {
   "cell_type": "code",
   "execution_count": 483,
   "id": "48e41289",
   "metadata": {},
   "outputs": [
    {
     "data": {
      "text/html": [
       "<div>\n",
       "<style scoped>\n",
       "    .dataframe tbody tr th:only-of-type {\n",
       "        vertical-align: middle;\n",
       "    }\n",
       "\n",
       "    .dataframe tbody tr th {\n",
       "        vertical-align: top;\n",
       "    }\n",
       "\n",
       "    .dataframe thead th {\n",
       "        text-align: right;\n",
       "    }\n",
       "</style>\n",
       "<table border=\"1\" class=\"dataframe\">\n",
       "  <thead>\n",
       "    <tr style=\"text-align: right;\">\n",
       "      <th></th>\n",
       "      <th>Date</th>\n",
       "      <th>Pageviews</th>\n",
       "      <th>Clicks</th>\n",
       "      <th>Enrollments</th>\n",
       "      <th>Payments</th>\n",
       "    </tr>\n",
       "  </thead>\n",
       "  <tbody>\n",
       "    <tr>\n",
       "      <th>0</th>\n",
       "      <td>Sat, Oct 11</td>\n",
       "      <td>7723</td>\n",
       "      <td>687</td>\n",
       "      <td>134.00</td>\n",
       "      <td>70.00</td>\n",
       "    </tr>\n",
       "  </tbody>\n",
       "</table>\n",
       "</div>"
      ],
      "text/plain": [
       "          Date  Pageviews  Clicks  Enrollments  Payments\n",
       "0  Sat, Oct 11       7723     687       134.00     70.00"
      ]
     },
     "execution_count": 483,
     "metadata": {},
     "output_type": "execute_result"
    }
   ],
   "source": [
    "df_control.head(1)"
   ]
  },
  {
   "cell_type": "code",
   "execution_count": 484,
   "id": "4e744252",
   "metadata": {},
   "outputs": [
    {
     "data": {
      "text/html": [
       "<div>\n",
       "<style scoped>\n",
       "    .dataframe tbody tr th:only-of-type {\n",
       "        vertical-align: middle;\n",
       "    }\n",
       "\n",
       "    .dataframe tbody tr th {\n",
       "        vertical-align: top;\n",
       "    }\n",
       "\n",
       "    .dataframe thead th {\n",
       "        text-align: right;\n",
       "    }\n",
       "</style>\n",
       "<table border=\"1\" class=\"dataframe\">\n",
       "  <thead>\n",
       "    <tr style=\"text-align: right;\">\n",
       "      <th></th>\n",
       "      <th>Date</th>\n",
       "      <th>Pageviews</th>\n",
       "      <th>Clicks</th>\n",
       "      <th>Enrollments</th>\n",
       "      <th>Payments</th>\n",
       "    </tr>\n",
       "  </thead>\n",
       "  <tbody>\n",
       "    <tr>\n",
       "      <th>22</th>\n",
       "      <td>Sun, Nov 2</td>\n",
       "      <td>8836</td>\n",
       "      <td>693</td>\n",
       "      <td>206.00</td>\n",
       "      <td>67.00</td>\n",
       "    </tr>\n",
       "  </tbody>\n",
       "</table>\n",
       "</div>"
      ],
      "text/plain": [
       "          Date  Pageviews  Clicks  Enrollments  Payments\n",
       "22  Sun, Nov 2       8836     693       206.00     67.00"
      ]
     },
     "execution_count": 484,
     "metadata": {},
     "output_type": "execute_result"
    }
   ],
   "source": [
    "df_control.tail(1)"
   ]
  },
  {
   "cell_type": "markdown",
   "id": "319d74b3",
   "metadata": {},
   "source": [
    "* Our date range is basically for October so we can really only extract information about the day of the week to use in this model\n",
    "* The days consist of three characters so we extract these"
   ]
  },
  {
   "cell_type": "code",
   "execution_count": 485,
   "id": "08f16977",
   "metadata": {},
   "outputs": [
    {
     "data": {
      "text/html": [
       "<div>\n",
       "<style scoped>\n",
       "    .dataframe tbody tr th:only-of-type {\n",
       "        vertical-align: middle;\n",
       "    }\n",
       "\n",
       "    .dataframe tbody tr th {\n",
       "        vertical-align: top;\n",
       "    }\n",
       "\n",
       "    .dataframe thead th {\n",
       "        text-align: right;\n",
       "    }\n",
       "</style>\n",
       "<table border=\"1\" class=\"dataframe\">\n",
       "  <thead>\n",
       "    <tr style=\"text-align: right;\">\n",
       "      <th></th>\n",
       "      <th>Date</th>\n",
       "      <th>Pageviews</th>\n",
       "      <th>Clicks</th>\n",
       "      <th>Enrollments</th>\n",
       "      <th>Payments</th>\n",
       "      <th>DayofWeek</th>\n",
       "    </tr>\n",
       "  </thead>\n",
       "  <tbody>\n",
       "    <tr>\n",
       "      <th>0</th>\n",
       "      <td>Sat, Oct 11</td>\n",
       "      <td>7723</td>\n",
       "      <td>687</td>\n",
       "      <td>134.00</td>\n",
       "      <td>70.00</td>\n",
       "      <td>Sat</td>\n",
       "    </tr>\n",
       "    <tr>\n",
       "      <th>1</th>\n",
       "      <td>Sun, Oct 12</td>\n",
       "      <td>9102</td>\n",
       "      <td>779</td>\n",
       "      <td>147.00</td>\n",
       "      <td>70.00</td>\n",
       "      <td>Sun</td>\n",
       "    </tr>\n",
       "    <tr>\n",
       "      <th>2</th>\n",
       "      <td>Mon, Oct 13</td>\n",
       "      <td>10511</td>\n",
       "      <td>909</td>\n",
       "      <td>167.00</td>\n",
       "      <td>95.00</td>\n",
       "      <td>Mon</td>\n",
       "    </tr>\n",
       "    <tr>\n",
       "      <th>3</th>\n",
       "      <td>Tue, Oct 14</td>\n",
       "      <td>9871</td>\n",
       "      <td>836</td>\n",
       "      <td>156.00</td>\n",
       "      <td>105.00</td>\n",
       "      <td>Tue</td>\n",
       "    </tr>\n",
       "    <tr>\n",
       "      <th>4</th>\n",
       "      <td>Wed, Oct 15</td>\n",
       "      <td>10014</td>\n",
       "      <td>837</td>\n",
       "      <td>163.00</td>\n",
       "      <td>64.00</td>\n",
       "      <td>Wed</td>\n",
       "    </tr>\n",
       "  </tbody>\n",
       "</table>\n",
       "</div>"
      ],
      "text/plain": [
       "          Date  Pageviews  Clicks  Enrollments  Payments DayofWeek\n",
       "0  Sat, Oct 11       7723     687       134.00     70.00       Sat\n",
       "1  Sun, Oct 12       9102     779       147.00     70.00       Sun\n",
       "2  Mon, Oct 13      10511     909       167.00     95.00       Mon\n",
       "3  Tue, Oct 14       9871     836       156.00    105.00       Tue\n",
       "4  Wed, Oct 15      10014     837       163.00     64.00       Wed"
      ]
     },
     "execution_count": 485,
     "metadata": {},
     "output_type": "execute_result"
    }
   ],
   "source": [
    "df_control[\"DayofWeek\"] = df_control[\"Date\"].str[:3]\n",
    "df_control.head()"
   ]
  },
  {
   "cell_type": "code",
   "execution_count": 486,
   "id": "bb07cb26",
   "metadata": {},
   "outputs": [],
   "source": [
    "df_exp[\"DayofWeek\"] = df_exp[\"Date\"].str[:3]"
   ]
  },
  {
   "cell_type": "code",
   "execution_count": 487,
   "id": "27cd84ec",
   "metadata": {},
   "outputs": [
    {
     "data": {
      "text/html": [
       "<div>\n",
       "<style scoped>\n",
       "    .dataframe tbody tr th:only-of-type {\n",
       "        vertical-align: middle;\n",
       "    }\n",
       "\n",
       "    .dataframe tbody tr th {\n",
       "        vertical-align: top;\n",
       "    }\n",
       "\n",
       "    .dataframe thead th {\n",
       "        text-align: right;\n",
       "    }\n",
       "</style>\n",
       "<table border=\"1\" class=\"dataframe\">\n",
       "  <thead>\n",
       "    <tr style=\"text-align: right;\">\n",
       "      <th></th>\n",
       "      <th>Date</th>\n",
       "      <th>Pageviews</th>\n",
       "      <th>Clicks</th>\n",
       "      <th>Enrollments</th>\n",
       "      <th>Payments</th>\n",
       "      <th>DayofWeek</th>\n",
       "    </tr>\n",
       "  </thead>\n",
       "  <tbody>\n",
       "    <tr>\n",
       "      <th>0</th>\n",
       "      <td>Sat, Oct 11</td>\n",
       "      <td>7716</td>\n",
       "      <td>686</td>\n",
       "      <td>105.00</td>\n",
       "      <td>34.00</td>\n",
       "      <td>Sat</td>\n",
       "    </tr>\n",
       "    <tr>\n",
       "      <th>1</th>\n",
       "      <td>Sun, Oct 12</td>\n",
       "      <td>9288</td>\n",
       "      <td>785</td>\n",
       "      <td>116.00</td>\n",
       "      <td>91.00</td>\n",
       "      <td>Sun</td>\n",
       "    </tr>\n",
       "    <tr>\n",
       "      <th>2</th>\n",
       "      <td>Mon, Oct 13</td>\n",
       "      <td>10480</td>\n",
       "      <td>884</td>\n",
       "      <td>145.00</td>\n",
       "      <td>79.00</td>\n",
       "      <td>Mon</td>\n",
       "    </tr>\n",
       "    <tr>\n",
       "      <th>3</th>\n",
       "      <td>Tue, Oct 14</td>\n",
       "      <td>9867</td>\n",
       "      <td>827</td>\n",
       "      <td>138.00</td>\n",
       "      <td>92.00</td>\n",
       "      <td>Tue</td>\n",
       "    </tr>\n",
       "    <tr>\n",
       "      <th>4</th>\n",
       "      <td>Wed, Oct 15</td>\n",
       "      <td>9793</td>\n",
       "      <td>832</td>\n",
       "      <td>140.00</td>\n",
       "      <td>94.00</td>\n",
       "      <td>Wed</td>\n",
       "    </tr>\n",
       "  </tbody>\n",
       "</table>\n",
       "</div>"
      ],
      "text/plain": [
       "          Date  Pageviews  Clicks  Enrollments  Payments DayofWeek\n",
       "0  Sat, Oct 11       7716     686       105.00     34.00       Sat\n",
       "1  Sun, Oct 12       9288     785       116.00     91.00       Sun\n",
       "2  Mon, Oct 13      10480     884       145.00     79.00       Mon\n",
       "3  Tue, Oct 14       9867     827       138.00     92.00       Tue\n",
       "4  Wed, Oct 15       9793     832       140.00     94.00       Wed"
      ]
     },
     "execution_count": 487,
     "metadata": {},
     "output_type": "execute_result"
    }
   ],
   "source": [
    "df_exp.head()"
   ]
  },
  {
   "cell_type": "code",
   "execution_count": 488,
   "id": "cbbc146e",
   "metadata": {},
   "outputs": [],
   "source": [
    "#Drop columns not needed\n",
    "df_control.drop(columns = [\"Date\"], axis = 1, inplace = True)\n",
    "df_exp.drop(columns = ['Date'], axis = 1, inplace = True)"
   ]
  },
  {
   "cell_type": "code",
   "execution_count": 489,
   "id": "112f6101",
   "metadata": {},
   "outputs": [
    {
     "data": {
      "text/html": [
       "<div>\n",
       "<style scoped>\n",
       "    .dataframe tbody tr th:only-of-type {\n",
       "        vertical-align: middle;\n",
       "    }\n",
       "\n",
       "    .dataframe tbody tr th {\n",
       "        vertical-align: top;\n",
       "    }\n",
       "\n",
       "    .dataframe thead th {\n",
       "        text-align: right;\n",
       "    }\n",
       "</style>\n",
       "<table border=\"1\" class=\"dataframe\">\n",
       "  <thead>\n",
       "    <tr style=\"text-align: right;\">\n",
       "      <th></th>\n",
       "      <th>count</th>\n",
       "      <th>mean</th>\n",
       "      <th>std</th>\n",
       "      <th>min</th>\n",
       "      <th>25%</th>\n",
       "      <th>50%</th>\n",
       "      <th>75%</th>\n",
       "      <th>max</th>\n",
       "    </tr>\n",
       "  </thead>\n",
       "  <tbody>\n",
       "    <tr>\n",
       "      <th>Pageviews</th>\n",
       "      <td>23.00</td>\n",
       "      <td>9224.48</td>\n",
       "      <td>850.30</td>\n",
       "      <td>7434.00</td>\n",
       "      <td>8761.50</td>\n",
       "      <td>9327.00</td>\n",
       "      <td>9770.50</td>\n",
       "      <td>10667.00</td>\n",
       "    </tr>\n",
       "    <tr>\n",
       "      <th>Clicks</th>\n",
       "      <td>23.00</td>\n",
       "      <td>751.87</td>\n",
       "      <td>77.01</td>\n",
       "      <td>632.00</td>\n",
       "      <td>691.00</td>\n",
       "      <td>736.00</td>\n",
       "      <td>829.50</td>\n",
       "      <td>909.00</td>\n",
       "    </tr>\n",
       "    <tr>\n",
       "      <th>Enrollments</th>\n",
       "      <td>23.00</td>\n",
       "      <td>164.57</td>\n",
       "      <td>29.98</td>\n",
       "      <td>110.00</td>\n",
       "      <td>146.50</td>\n",
       "      <td>162.00</td>\n",
       "      <td>175.00</td>\n",
       "      <td>233.00</td>\n",
       "    </tr>\n",
       "    <tr>\n",
       "      <th>Payments</th>\n",
       "      <td>23.00</td>\n",
       "      <td>88.39</td>\n",
       "      <td>20.65</td>\n",
       "      <td>56.00</td>\n",
       "      <td>70.00</td>\n",
       "      <td>91.00</td>\n",
       "      <td>102.50</td>\n",
       "      <td>128.00</td>\n",
       "    </tr>\n",
       "  </tbody>\n",
       "</table>\n",
       "</div>"
      ],
      "text/plain": [
       "             count    mean    std     min     25%     50%     75%      max\n",
       "Pageviews    23.00 9224.48 850.30 7434.00 8761.50 9327.00 9770.50 10667.00\n",
       "Clicks       23.00  751.87  77.01  632.00  691.00  736.00  829.50   909.00\n",
       "Enrollments  23.00  164.57  29.98  110.00  146.50  162.00  175.00   233.00\n",
       "Payments     23.00   88.39  20.65   56.00   70.00   91.00  102.50   128.00"
      ]
     },
     "execution_count": 489,
     "metadata": {},
     "output_type": "execute_result"
    }
   ],
   "source": [
    "# Look at basic stats - control group\n",
    "df_control.describe().T"
   ]
  },
  {
   "cell_type": "code",
   "execution_count": 490,
   "id": "d161a31f",
   "metadata": {},
   "outputs": [
    {
     "data": {
      "text/html": [
       "<div>\n",
       "<style scoped>\n",
       "    .dataframe tbody tr th:only-of-type {\n",
       "        vertical-align: middle;\n",
       "    }\n",
       "\n",
       "    .dataframe tbody tr th {\n",
       "        vertical-align: top;\n",
       "    }\n",
       "\n",
       "    .dataframe thead th {\n",
       "        text-align: right;\n",
       "    }\n",
       "</style>\n",
       "<table border=\"1\" class=\"dataframe\">\n",
       "  <thead>\n",
       "    <tr style=\"text-align: right;\">\n",
       "      <th></th>\n",
       "      <th>count</th>\n",
       "      <th>mean</th>\n",
       "      <th>std</th>\n",
       "      <th>min</th>\n",
       "      <th>25%</th>\n",
       "      <th>50%</th>\n",
       "      <th>75%</th>\n",
       "      <th>max</th>\n",
       "    </tr>\n",
       "  </thead>\n",
       "  <tbody>\n",
       "    <tr>\n",
       "      <th>Pageviews</th>\n",
       "      <td>23.00</td>\n",
       "      <td>9189.65</td>\n",
       "      <td>802.03</td>\n",
       "      <td>7664.00</td>\n",
       "      <td>8692.00</td>\n",
       "      <td>9288.00</td>\n",
       "      <td>9696.00</td>\n",
       "      <td>10551.00</td>\n",
       "    </tr>\n",
       "    <tr>\n",
       "      <th>Clicks</th>\n",
       "      <td>23.00</td>\n",
       "      <td>750.43</td>\n",
       "      <td>70.32</td>\n",
       "      <td>642.00</td>\n",
       "      <td>696.00</td>\n",
       "      <td>728.00</td>\n",
       "      <td>794.50</td>\n",
       "      <td>884.00</td>\n",
       "    </tr>\n",
       "    <tr>\n",
       "      <th>Enrollments</th>\n",
       "      <td>23.00</td>\n",
       "      <td>148.83</td>\n",
       "      <td>33.23</td>\n",
       "      <td>94.00</td>\n",
       "      <td>127.00</td>\n",
       "      <td>142.00</td>\n",
       "      <td>172.00</td>\n",
       "      <td>213.00</td>\n",
       "    </tr>\n",
       "    <tr>\n",
       "      <th>Payments</th>\n",
       "      <td>23.00</td>\n",
       "      <td>84.57</td>\n",
       "      <td>23.06</td>\n",
       "      <td>34.00</td>\n",
       "      <td>69.00</td>\n",
       "      <td>91.00</td>\n",
       "      <td>99.00</td>\n",
       "      <td>123.00</td>\n",
       "    </tr>\n",
       "  </tbody>\n",
       "</table>\n",
       "</div>"
      ],
      "text/plain": [
       "             count    mean    std     min     25%     50%     75%      max\n",
       "Pageviews    23.00 9189.65 802.03 7664.00 8692.00 9288.00 9696.00 10551.00\n",
       "Clicks       23.00  750.43  70.32  642.00  696.00  728.00  794.50   884.00\n",
       "Enrollments  23.00  148.83  33.23   94.00  127.00  142.00  172.00   213.00\n",
       "Payments     23.00   84.57  23.06   34.00   69.00   91.00   99.00   123.00"
      ]
     },
     "execution_count": 490,
     "metadata": {},
     "output_type": "execute_result"
    }
   ],
   "source": [
    "# Basic stats for experiment group\n",
    "df_exp.describe().T"
   ]
  },
  {
   "cell_type": "markdown",
   "id": "1cd96aaf",
   "metadata": {},
   "source": [
    "* The mean enrollments and payments for the experiment group is less than the control"
   ]
  },
  {
   "cell_type": "code",
   "execution_count": 492,
   "id": "fd68c8e4",
   "metadata": {},
   "outputs": [],
   "source": [
    "# Convert both enrollments and payments to integers as they are not floats\n",
    "df_control['Enrollments'] = df_control['Enrollments'].astype(int)\n",
    "df_control['Payments'] = df_control['Payments'].astype(int)\n",
    "df_exp['Enrollments'] = df_exp['Enrollments'].astype(int)\n",
    "df_exp['Payments'] = df_exp['Payments'].astype(int)"
   ]
  },
  {
   "cell_type": "markdown",
   "id": "2d5e40ef",
   "metadata": {},
   "source": [
    "## Hypothesis Test"
   ]
  },
  {
   "cell_type": "markdown",
   "id": "d352f994",
   "metadata": {},
   "source": [
    "* We will first find out if there is a difference in enrollments between the control and treatment group\n",
    "* This will be in the form of an AB test\n",
    "* H0: There is no difference between the mean enrollment of control or treatment group\n",
    "* H1: There is a difference between the mean enrollment of the control or treatment group\n",
    "* We have 23 rows in each of the groups so we shouldn't use a t-test"
   ]
  },
  {
   "cell_type": "code",
   "execution_count": 801,
   "id": "cdf04600",
   "metadata": {},
   "outputs": [
    {
     "data": {
      "text/plain": [
       "1    23\n",
       "0    23\n",
       "Name: Ind, dtype: int64"
      ]
     },
     "execution_count": 801,
     "metadata": {},
     "output_type": "execute_result"
    }
   ],
   "source": [
    "df_combined[\"Ind\"].value_counts()"
   ]
  },
  {
   "cell_type": "code",
   "execution_count": 835,
   "id": "ae0c8f1f",
   "metadata": {},
   "outputs": [
    {
     "data": {
      "image/png": "[encoded data removed]",
      "text/plain": [
       "<Figure size 400x300 with 1 Axes>"
      ]
     },
     "metadata": {},
     "output_type": "display_data"
    }
   ],
   "source": [
    "# Plot distribution of birth weights\n",
    "fig, ax = plt.subplots(figsize = (4,3))\n",
    "sns.histplot(data=df_combined,x=df_combined[\"Enrollments\"], kde = True)\n",
    "plt.title(\"Enrolments Distribution\");"
   ]
  },
  {
   "cell_type": "code",
   "execution_count": 808,
   "id": "5518f2c4",
   "metadata": {},
   "outputs": [
    {
     "data": {
      "image/png": "[encoded data removed]",
      "text/plain": [
       "<Figure size 400x300 with 1 Axes>"
      ]
     },
     "metadata": {},
     "output_type": "display_data"
    }
   ],
   "source": [
    "# Check with qq plot\n",
    "fig, ax = plt.subplots(figsize = (4,3))\n",
    "stats.probplot(df_combined[\"Enrollments\"], dist = \"norm\", plot = plt);"
   ]
  },
  {
   "cell_type": "code",
   "execution_count": 809,
   "id": "a733efc1",
   "metadata": {},
   "outputs": [
    {
     "data": {
      "text/plain": [
       "ShapiroResult(statistic=0.9760396480560303, pvalue=0.45435917377471924)"
      ]
     },
     "execution_count": 809,
     "metadata": {},
     "output_type": "execute_result"
    }
   ],
   "source": [
    "# Shapiro test of normality\n",
    "stats.shapiro(df_combined[\"Enrollments\"])"
   ]
  },
  {
   "cell_type": "markdown",
   "id": "369ff06f",
   "metadata": {},
   "source": [
    "* The two charts and shapiro test indicate that the data is normally distributed. \n",
    "* T- tests do not require it but useful to understand the data"
   ]
  },
  {
   "cell_type": "code",
   "execution_count": 836,
   "id": "0307032e",
   "metadata": {},
   "outputs": [
    {
     "data": {
      "image/png": "[encoded data removed]",
      "text/plain": [
       "<Figure size 400x300 with 1 Axes>"
      ]
     },
     "metadata": {},
     "output_type": "display_data"
    }
   ],
   "source": [
    "fig, ax = plt.subplots(figsize = (4,3))\n",
    "sns.boxplot(data = df_combined, x = \"Ind\", y = \"Enrollments\")\n",
    "plt.title(\"Comparison of Enrolments for Control and Treatment Group\", fontsize = 10);"
   ]
  },
  {
   "cell_type": "code",
   "execution_count": 812,
   "id": "e8651cb8",
   "metadata": {},
   "outputs": [
    {
     "name": "stdout",
     "output_type": "stream",
     "text": [
      "164.56521739130434\n",
      "148.82608695652175\n"
     ]
    }
   ],
   "source": [
    "# Get the means of each and compare\n",
    "print(df_control[\"Enrollments\"].mean())\n",
    "print(df_exp[\"Enrollments\"].mean())"
   ]
  },
  {
   "cell_type": "markdown",
   "id": "2772bd29",
   "metadata": {},
   "source": [
    "* The means of the two groups, together with the boxplot suggests that there is a difference between control and treatment groups but is it significant?"
   ]
  },
  {
   "cell_type": "code",
   "execution_count": 814,
   "id": "7797154b",
   "metadata": {},
   "outputs": [
    {
     "data": {
      "text/plain": [
       "F_onewayResult(statistic=2.844325000542627, pvalue=0.09877614030153417)"
      ]
     },
     "execution_count": 814,
     "metadata": {},
     "output_type": "execute_result"
    }
   ],
   "source": [
    "# F-test for equality of variances\n",
    "stats.f_oneway(df_control[\"Enrollments\"],df_exp[\"Enrollments\"])"
   ]
  },
  {
   "cell_type": "code",
   "execution_count": 813,
   "id": "876e5e98",
   "metadata": {},
   "outputs": [
    {
     "data": {
      "text/plain": [
       "LeveneResult(statistic=0.36830501645593133, pvalue=0.5470486201120376)"
      ]
     },
     "execution_count": 813,
     "metadata": {},
     "output_type": "execute_result"
    }
   ],
   "source": [
    "# Are the variances equal?\n",
    "stats.levene(df_control[\"Enrollments\"], df_exp[\"Enrollments\"])"
   ]
  },
  {
   "cell_type": "markdown",
   "id": "3bd7c184",
   "metadata": {},
   "source": [
    "* We fail to reject the null hypothesis of equal variance so we can run the 2 sample independent t-test"
   ]
  },
  {
   "cell_type": "code",
   "execution_count": 817,
   "id": "1536bf57",
   "metadata": {},
   "outputs": [
    {
     "data": {
      "text/plain": [
       "Ttest_indResult(statistic=1.686512674290538, pvalue=0.09877614030153456)"
      ]
     },
     "execution_count": 817,
     "metadata": {},
     "output_type": "execute_result"
    }
   ],
   "source": [
    "# Independent 2 sample t-test\n",
    "stats.ttest_ind(df_control[\"Enrollments\"], df_exp[\"Enrollments\"])"
   ]
  },
  {
   "cell_type": "markdown",
   "id": "bda2edf5",
   "metadata": {},
   "source": [
    "* The p-value which is the probability that a difference between means is due to chance is above the 5% significance level, so we fail to reject the Null Hypothesis of sample means being the same. \n",
    "* We can say that enrolments of the treatment group are not significantly different from that of the control group.\n",
    "* We will see if we can build a predictive model to predict whether we get a payment based on the features of enrolments, clicks, pageviews and whether or not they are shown the popup button."
   ]
  },
  {
   "cell_type": "markdown",
   "id": "bc91e7ec",
   "metadata": {},
   "source": [
    "## Exploratory Data Analysis"
   ]
  },
  {
   "cell_type": "markdown",
   "id": "b9b28fe5",
   "metadata": {},
   "source": [
    "### Enrollments"
   ]
  },
  {
   "cell_type": "code",
   "execution_count": 837,
   "id": "a1ab25ac",
   "metadata": {},
   "outputs": [
    {
     "data": {
      "image/png": "[encoded data removed]",
      "text/plain": [
       "<Figure size 640x480 with 1 Axes>"
      ]
     },
     "metadata": {},
     "output_type": "display_data"
    }
   ],
   "source": [
    "sns.distplot(df_control['Enrollments'])\n",
    "sns.distplot(df_exp['Enrollments'])\n",
    "plt.title('Daily Enrolments')\n",
    "plt.legend(labels=['Control','Experiment']);"
   ]
  },
  {
   "cell_type": "code",
   "execution_count": 494,
   "id": "97898139",
   "metadata": {},
   "outputs": [
    {
     "name": "stdout",
     "output_type": "stream",
     "text": [
      "0.5758077705678025\n",
      "0.54663405782461\n"
     ]
    }
   ],
   "source": [
    "print(df_control['Enrollments'].skew())\n",
    "print(df_exp['Enrollments'].skew())"
   ]
  },
  {
   "cell_type": "markdown",
   "id": "60dadbd4",
   "metadata": {},
   "source": [
    "* Enrolments in the treatment group are lower than the control group\n",
    "* This is perhaps what we might expect given the message given to those who can commit less than 5 hours per week"
   ]
  },
  {
   "cell_type": "markdown",
   "id": "315cd7d5",
   "metadata": {},
   "source": [
    "### Page Views"
   ]
  },
  {
   "cell_type": "code",
   "execution_count": 495,
   "id": "4ec5e18d",
   "metadata": {},
   "outputs": [
    {
     "data": {
      "image/png": "[encoded data removed]",
      "text/plain": [
       "<Figure size 640x480 with 1 Axes>"
      ]
     },
     "metadata": {},
     "output_type": "display_data"
    }
   ],
   "source": [
    "sns.distplot(df_control['Pageviews'])\n",
    "sns.distplot(df_exp['Pageviews'])\n",
    "plt.title('Daily Page Views')\n",
    "plt.legend(labels=['Control','Experiment']);"
   ]
  },
  {
   "cell_type": "code",
   "execution_count": 496,
   "id": "0434e44f",
   "metadata": {},
   "outputs": [
    {
     "name": "stdout",
     "output_type": "stream",
     "text": [
      "-0.13663202451334866\n",
      "-0.1165679366343369\n"
     ]
    }
   ],
   "source": [
    "print(df_control['Pageviews'].skew())\n",
    "print(df_exp['Pageviews'].skew())"
   ]
  },
  {
   "cell_type": "markdown",
   "id": "6e0a4798",
   "metadata": {},
   "source": [
    "* Daily page views are broadly similar between the two groups"
   ]
  },
  {
   "cell_type": "code",
   "execution_count": 497,
   "id": "4ff4bbf0",
   "metadata": {},
   "outputs": [],
   "source": [
    "# Plot the distribution between the two groups\n",
    "#fig, (ax1,ax2) = plt.subplots(1,2, figsize = (10,3))\n",
    "#fig.suptitle('Daily Page Views')\n",
    "#ax1.hist(df_control['Pageviews'], ec = 'k')\n",
    "#ax2.hist(df_exp['Pageviews'], ec = 'k')\n",
    "#ax1.set_title(\"Control Group\")\n",
    "#ax2.set_title(\"Experiment Group\")\n",
    "#ax1.set_xlabel(\"Num.Views\")\n",
    "#ax2.set_xlabel(\"Num.Views\");"
   ]
  },
  {
   "cell_type": "markdown",
   "id": "f8c96b14",
   "metadata": {},
   "source": [
    "### Clicks"
   ]
  },
  {
   "cell_type": "code",
   "execution_count": 498,
   "id": "dcab8c7a",
   "metadata": {},
   "outputs": [
    {
     "data": {
      "image/png": "[encoded data removed]",
      "text/plain": [
       "<Figure size 640x480 with 1 Axes>"
      ]
     },
     "metadata": {},
     "output_type": "display_data"
    }
   ],
   "source": [
    "sns.distplot(df_control['Clicks'])\n",
    "sns.distplot(df_exp['Clicks'])\n",
    "plt.title('Daily Clicks')\n",
    "plt.legend(labels=['Control','Experiment']);"
   ]
  },
  {
   "cell_type": "code",
   "execution_count": 499,
   "id": "5efa9098",
   "metadata": {},
   "outputs": [
    {
     "name": "stdout",
     "output_type": "stream",
     "text": [
      "0.5005292895549792\n",
      "0.3782586337248761\n"
     ]
    }
   ],
   "source": [
    "print(df_control['Clicks'].skew())\n",
    "print(df_exp['Clicks'].skew())"
   ]
  },
  {
   "cell_type": "markdown",
   "id": "eb3d9da7",
   "metadata": {},
   "source": [
    "* The spread for both groups is fairly similar"
   ]
  },
  {
   "cell_type": "markdown",
   "id": "c3ee9017",
   "metadata": {},
   "source": [
    "### Payments"
   ]
  },
  {
   "cell_type": "code",
   "execution_count": 500,
   "id": "deed0c0b",
   "metadata": {},
   "outputs": [
    {
     "data": {
      "image/png": "[encoded data removed]",
      "text/plain": [
       "<Figure size 640x480 with 1 Axes>"
      ]
     },
     "metadata": {},
     "output_type": "display_data"
    }
   ],
   "source": [
    "sns.distplot(df_control['Payments'])\n",
    "sns.distplot(df_exp['Payments'])\n",
    "plt.title('Daily Payments')\n",
    "plt.legend(labels=['Control','Experiment']);"
   ]
  },
  {
   "cell_type": "code",
   "execution_count": 501,
   "id": "dd425f39",
   "metadata": {},
   "outputs": [
    {
     "name": "stdout",
     "output_type": "stream",
     "text": [
      "0.32169546746538535\n",
      "-0.300628838834334\n"
     ]
    }
   ],
   "source": [
    "print(df_control['Payments'].skew())\n",
    "print(df_exp['Payments'].skew())"
   ]
  },
  {
   "cell_type": "markdown",
   "id": "0680e581",
   "metadata": {},
   "source": [
    "### Day of Week"
   ]
  },
  {
   "cell_type": "code",
   "execution_count": 838,
   "id": "9752be49",
   "metadata": {},
   "outputs": [
    {
     "data": {
      "image/png": "[encoded data removed]",
      "text/plain": [
       "<Figure size 640x480 with 1 Axes>"
      ]
     },
     "metadata": {},
     "output_type": "display_data"
    }
   ],
   "source": [
    "df_control.groupby('DayofWeek')['Enrollments'].count().plot(kind = 'bar')\n",
    "plt.title('Enrolments by Day of Week');"
   ]
  },
  {
   "cell_type": "markdown",
   "id": "7a658f36",
   "metadata": {},
   "source": [
    "* Enrollments appear to be higher on the weekend"
   ]
  },
  {
   "cell_type": "markdown",
   "id": "a8f4554b",
   "metadata": {},
   "source": [
    "### Clicks and Page Views"
   ]
  },
  {
   "cell_type": "code",
   "execution_count": 503,
   "id": "23271eff",
   "metadata": {},
   "outputs": [
    {
     "data": {
      "image/png": "[encoded data removed]",
      "text/plain": [
       "<Figure size 640x480 with 1 Axes>"
      ]
     },
     "metadata": {},
     "output_type": "display_data"
    }
   ],
   "source": [
    "sns.scatterplot(y = df_control['Clicks'],x = df_control['Pageviews'], alpha = 0.5)\n",
    "sns.scatterplot(y = df_exp['Clicks'],x = df_exp['Pageviews'])\n",
    "plt.title('Clicks by Page Views')\n",
    "plt.legend(labels=['Control','Experiment'])\n",
    "plt.legend(labels=['Control','Experiment']);"
   ]
  },
  {
   "cell_type": "markdown",
   "id": "df27ebfc",
   "metadata": {},
   "source": [
    "* The relationship between page views and clicks is shown by the positive trend"
   ]
  },
  {
   "cell_type": "markdown",
   "id": "88011dca",
   "metadata": {},
   "source": [
    "### Enrolments and Payments"
   ]
  },
  {
   "cell_type": "code",
   "execution_count": 839,
   "id": "b073b390",
   "metadata": {},
   "outputs": [
    {
     "data": {
      "image/png": "[encoded data removed]",
      "text/plain": [
       "<Figure size 640x480 with 1 Axes>"
      ]
     },
     "metadata": {},
     "output_type": "display_data"
    }
   ],
   "source": [
    "sns.scatterplot(y = df_train[\"Payments\"],x = df_train['Enrollments'], alpha = 0.5)\n",
    "sns.scatterplot(y = df_exp[\"Payments\"],x = df_exp['Enrollments'])\n",
    "plt.title('Payment by Enrolments')\n",
    "plt.legend(labels=['Control','Experiment'])\n",
    "plt.legend(labels=['Control','Experiment']);"
   ]
  },
  {
   "cell_type": "markdown",
   "id": "aa2def2a",
   "metadata": {},
   "source": [
    "* There appears to be some relationship between enrollments and payments as we would expect but it is not as clear as between clicks and page views interestingly"
   ]
  },
  {
   "cell_type": "markdown",
   "id": "0661651e",
   "metadata": {},
   "source": [
    "### Correlations"
   ]
  },
  {
   "cell_type": "code",
   "execution_count": 840,
   "id": "af8c5099",
   "metadata": {},
   "outputs": [
    {
     "data": {
      "image/png": "[encoded data removed]",
      "text/plain": [
       "<Figure size 640x480 with 2 Axes>"
      ]
     },
     "metadata": {},
     "output_type": "display_data"
    }
   ],
   "source": [
    "# Correlations between numerical features and enrolments\n",
    "sns.heatmap(df_train.corr(), annot = True);"
   ]
  },
  {
   "cell_type": "markdown",
   "id": "c24e30c1",
   "metadata": {},
   "source": [
    "* As we would expect payments are highly related to enrolments and clicks to page views\n",
    "* There is some multi-collinearity in the data\n",
    "* If we wish our model to be explainable then we need to deal with this as it can undermine the reliability of the coefficients.\n",
    "* If we are using our model primarily for prediction, then we can be less concerned with multicollinearity in the data"
   ]
  },
  {
   "cell_type": "code",
   "execution_count": 507,
   "id": "fd0793f5",
   "metadata": {},
   "outputs": [],
   "source": [
    "# Add column identifiers to the datasets\n",
    "df_control[\"Ind\"] = 0\n",
    "df_exp[\"Ind\"] = 1"
   ]
  },
  {
   "cell_type": "code",
   "execution_count": 598,
   "id": "cdc7b90d",
   "metadata": {},
   "outputs": [],
   "source": [
    "# Combine the control and treatment groups\n",
    "df_combined = pd.concat([df_control, df_exp], axis = 0)\n",
    "df_combined.reset_index(inplace = True)"
   ]
  },
  {
   "cell_type": "code",
   "execution_count": 831,
   "id": "55c308b1",
   "metadata": {},
   "outputs": [
    {
     "data": {
      "image/png": "[encoded data removed]",
      "text/plain": [
       "<Figure size 300x300 with 2 Axes>"
      ]
     },
     "metadata": {},
     "output_type": "display_data"
    }
   ],
   "source": [
    "# Relationships between categorical revenue and categorical features\n",
    "associations(df_combined[['Enrollments','DayofWeek','Ind']], nom_nom_assoc='theil', figsize = (3,3));"
   ]
  },
  {
   "cell_type": "code",
   "execution_count": 856,
   "id": "833d2605",
   "metadata": {},
   "outputs": [
    {
     "data": {
      "text/html": [
       "<div>\n",
       "<style scoped>\n",
       "    .dataframe tbody tr th:only-of-type {\n",
       "        vertical-align: middle;\n",
       "    }\n",
       "\n",
       "    .dataframe tbody tr th {\n",
       "        vertical-align: top;\n",
       "    }\n",
       "\n",
       "    .dataframe thead th {\n",
       "        text-align: right;\n",
       "    }\n",
       "</style>\n",
       "<table border=\"1\" class=\"dataframe\">\n",
       "  <thead>\n",
       "    <tr style=\"text-align: right;\">\n",
       "      <th></th>\n",
       "      <th>index</th>\n",
       "      <th>Pageviews</th>\n",
       "      <th>Clicks</th>\n",
       "      <th>Enrollments</th>\n",
       "      <th>Payments</th>\n",
       "      <th>DayofWeek</th>\n",
       "      <th>Ind</th>\n",
       "    </tr>\n",
       "  </thead>\n",
       "  <tbody>\n",
       "    <tr>\n",
       "      <th>0</th>\n",
       "      <td>0</td>\n",
       "      <td>7723</td>\n",
       "      <td>687</td>\n",
       "      <td>134</td>\n",
       "      <td>70</td>\n",
       "      <td>Sat</td>\n",
       "      <td>0</td>\n",
       "    </tr>\n",
       "    <tr>\n",
       "      <th>26</th>\n",
       "      <td>3</td>\n",
       "      <td>9867</td>\n",
       "      <td>827</td>\n",
       "      <td>138</td>\n",
       "      <td>92</td>\n",
       "      <td>Tue</td>\n",
       "      <td>1</td>\n",
       "    </tr>\n",
       "    <tr>\n",
       "      <th>25</th>\n",
       "      <td>2</td>\n",
       "      <td>10480</td>\n",
       "      <td>884</td>\n",
       "      <td>145</td>\n",
       "      <td>79</td>\n",
       "      <td>Mon</td>\n",
       "      <td>1</td>\n",
       "    </tr>\n",
       "    <tr>\n",
       "      <th>39</th>\n",
       "      <td>16</td>\n",
       "      <td>9655</td>\n",
       "      <td>771</td>\n",
       "      <td>213</td>\n",
       "      <td>119</td>\n",
       "      <td>Mon</td>\n",
       "      <td>1</td>\n",
       "    </tr>\n",
       "    <tr>\n",
       "      <th>33</th>\n",
       "      <td>10</td>\n",
       "      <td>10551</td>\n",
       "      <td>864</td>\n",
       "      <td>143</td>\n",
       "      <td>71</td>\n",
       "      <td>Tue</td>\n",
       "      <td>1</td>\n",
       "    </tr>\n",
       "  </tbody>\n",
       "</table>\n",
       "</div>"
      ],
      "text/plain": [
       "    index  Pageviews  Clicks  Enrollments  Payments DayofWeek  Ind\n",
       "0       0       7723     687          134        70       Sat    0\n",
       "26      3       9867     827          138        92       Tue    1\n",
       "25      2      10480     884          145        79       Mon    1\n",
       "39     16       9655     771          213       119       Mon    1\n",
       "33     10      10551     864          143        71       Tue    1"
      ]
     },
     "execution_count": 856,
     "metadata": {},
     "output_type": "execute_result"
    }
   ],
   "source": [
    "# Shuffle the data\n",
    "df_combined = df_combined.sample(frac = 1)\n",
    "df_combined.head()"
   ]
  },
  {
   "cell_type": "code",
   "execution_count": 857,
   "id": "a6e4650f",
   "metadata": {},
   "outputs": [
    {
     "data": {
      "text/plain": [
       "(46, 7)"
      ]
     },
     "execution_count": 857,
     "metadata": {},
     "output_type": "execute_result"
    }
   ],
   "source": [
    "df_combined.shape"
   ]
  },
  {
   "cell_type": "code",
   "execution_count": 898,
   "id": "a9f52dde",
   "metadata": {},
   "outputs": [],
   "source": [
    "# Split out X and y from the training and test sets\n",
    "X = df_combined.drop(columns = [\"Payments\"], axis = 1)\n",
    "y = df_combined[\"Payments\"]"
   ]
  },
  {
   "cell_type": "code",
   "execution_count": 914,
   "id": "fcba9b54",
   "metadata": {},
   "outputs": [
    {
     "data": {
      "text/plain": [
       "((36, 6), (10, 6), (36,), (10,))"
      ]
     },
     "execution_count": 914,
     "metadata": {},
     "output_type": "execute_result"
    }
   ],
   "source": [
    "X_train, X_test, y_train, y_test = train_test_split(X,y, test_size = 0.2, random_state = 42)\n",
    "X_train.shape, X_test.shape, y_train.shape, y_test.shape"
   ]
  },
  {
   "cell_type": "code",
   "execution_count": 915,
   "id": "09fc4309",
   "metadata": {},
   "outputs": [
    {
     "data": {
      "text/html": [
       "<div>\n",
       "<style scoped>\n",
       "    .dataframe tbody tr th:only-of-type {\n",
       "        vertical-align: middle;\n",
       "    }\n",
       "\n",
       "    .dataframe tbody tr th {\n",
       "        vertical-align: top;\n",
       "    }\n",
       "\n",
       "    .dataframe thead th {\n",
       "        text-align: right;\n",
       "    }\n",
       "</style>\n",
       "<table border=\"1\" class=\"dataframe\">\n",
       "  <thead>\n",
       "    <tr style=\"text-align: right;\">\n",
       "      <th></th>\n",
       "      <th>index</th>\n",
       "      <th>Pageviews</th>\n",
       "      <th>Clicks</th>\n",
       "      <th>Enrollments</th>\n",
       "      <th>DayofWeek</th>\n",
       "      <th>Ind</th>\n",
       "    </tr>\n",
       "  </thead>\n",
       "  <tbody>\n",
       "    <tr>\n",
       "      <th>16</th>\n",
       "      <td>16</td>\n",
       "      <td>9535</td>\n",
       "      <td>759</td>\n",
       "      <td>233</td>\n",
       "      <td>Mon</td>\n",
       "      <td>0</td>\n",
       "    </tr>\n",
       "    <tr>\n",
       "      <th>1</th>\n",
       "      <td>1</td>\n",
       "      <td>9102</td>\n",
       "      <td>779</td>\n",
       "      <td>147</td>\n",
       "      <td>Sun</td>\n",
       "      <td>0</td>\n",
       "    </tr>\n",
       "  </tbody>\n",
       "</table>\n",
       "</div>"
      ],
      "text/plain": [
       "    index  Pageviews  Clicks  Enrollments DayofWeek  Ind\n",
       "16     16       9535     759          233       Mon    0\n",
       "1       1       9102     779          147       Sun    0"
      ]
     },
     "execution_count": 915,
     "metadata": {},
     "output_type": "execute_result"
    }
   ],
   "source": [
    "X_train.head(2)"
   ]
  },
  {
   "cell_type": "code",
   "execution_count": 916,
   "id": "50415cc3",
   "metadata": {},
   "outputs": [
    {
     "data": {
      "text/html": [
       "<div>\n",
       "<style scoped>\n",
       "    .dataframe tbody tr th:only-of-type {\n",
       "        vertical-align: middle;\n",
       "    }\n",
       "\n",
       "    .dataframe tbody tr th {\n",
       "        vertical-align: top;\n",
       "    }\n",
       "\n",
       "    .dataframe thead th {\n",
       "        text-align: right;\n",
       "    }\n",
       "</style>\n",
       "<table border=\"1\" class=\"dataframe\">\n",
       "  <thead>\n",
       "    <tr style=\"text-align: right;\">\n",
       "      <th></th>\n",
       "      <th>count</th>\n",
       "      <th>mean</th>\n",
       "      <th>std</th>\n",
       "      <th>min</th>\n",
       "      <th>25%</th>\n",
       "      <th>50%</th>\n",
       "      <th>75%</th>\n",
       "      <th>max</th>\n",
       "    </tr>\n",
       "  </thead>\n",
       "  <tbody>\n",
       "    <tr>\n",
       "      <th>index</th>\n",
       "      <td>36.00</td>\n",
       "      <td>10.72</td>\n",
       "      <td>6.96</td>\n",
       "      <td>0.00</td>\n",
       "      <td>4.75</td>\n",
       "      <td>10.50</td>\n",
       "      <td>17.00</td>\n",
       "      <td>22.00</td>\n",
       "    </tr>\n",
       "    <tr>\n",
       "      <th>Pageviews</th>\n",
       "      <td>36.00</td>\n",
       "      <td>9248.78</td>\n",
       "      <td>762.60</td>\n",
       "      <td>7434.00</td>\n",
       "      <td>8836.00</td>\n",
       "      <td>9298.00</td>\n",
       "      <td>9751.00</td>\n",
       "      <td>10667.00</td>\n",
       "    </tr>\n",
       "    <tr>\n",
       "      <th>Clicks</th>\n",
       "      <td>36.00</td>\n",
       "      <td>757.14</td>\n",
       "      <td>71.22</td>\n",
       "      <td>632.00</td>\n",
       "      <td>696.50</td>\n",
       "      <td>737.50</td>\n",
       "      <td>824.00</td>\n",
       "      <td>909.00</td>\n",
       "    </tr>\n",
       "    <tr>\n",
       "      <th>Enrollments</th>\n",
       "      <td>36.00</td>\n",
       "      <td>157.69</td>\n",
       "      <td>29.47</td>\n",
       "      <td>110.00</td>\n",
       "      <td>137.00</td>\n",
       "      <td>155.00</td>\n",
       "      <td>174.50</td>\n",
       "      <td>233.00</td>\n",
       "    </tr>\n",
       "    <tr>\n",
       "      <th>Ind</th>\n",
       "      <td>36.00</td>\n",
       "      <td>0.44</td>\n",
       "      <td>0.50</td>\n",
       "      <td>0.00</td>\n",
       "      <td>0.00</td>\n",
       "      <td>0.00</td>\n",
       "      <td>1.00</td>\n",
       "      <td>1.00</td>\n",
       "    </tr>\n",
       "  </tbody>\n",
       "</table>\n",
       "</div>"
      ],
      "text/plain": [
       "             count    mean    std     min     25%     50%     75%      max\n",
       "index        36.00   10.72   6.96    0.00    4.75   10.50   17.00    22.00\n",
       "Pageviews    36.00 9248.78 762.60 7434.00 8836.00 9298.00 9751.00 10667.00\n",
       "Clicks       36.00  757.14  71.22  632.00  696.50  737.50  824.00   909.00\n",
       "Enrollments  36.00  157.69  29.47  110.00  137.00  155.00  174.50   233.00\n",
       "Ind          36.00    0.44   0.50    0.00    0.00    0.00    1.00     1.00"
      ]
     },
     "execution_count": 916,
     "metadata": {},
     "output_type": "execute_result"
    }
   ],
   "source": [
    "X_train.describe().T"
   ]
  },
  {
   "cell_type": "code",
   "execution_count": 917,
   "id": "d21e1580",
   "metadata": {},
   "outputs": [
    {
     "data": {
      "text/html": [
       "<div>\n",
       "<style scoped>\n",
       "    .dataframe tbody tr th:only-of-type {\n",
       "        vertical-align: middle;\n",
       "    }\n",
       "\n",
       "    .dataframe tbody tr th {\n",
       "        vertical-align: top;\n",
       "    }\n",
       "\n",
       "    .dataframe thead th {\n",
       "        text-align: right;\n",
       "    }\n",
       "</style>\n",
       "<table border=\"1\" class=\"dataframe\">\n",
       "  <thead>\n",
       "    <tr style=\"text-align: right;\">\n",
       "      <th></th>\n",
       "      <th>Fri</th>\n",
       "      <th>Mon</th>\n",
       "      <th>Sat</th>\n",
       "      <th>Sun</th>\n",
       "      <th>Thu</th>\n",
       "      <th>Tue</th>\n",
       "      <th>Wed</th>\n",
       "    </tr>\n",
       "  </thead>\n",
       "  <tbody>\n",
       "    <tr>\n",
       "      <th>16</th>\n",
       "      <td>0</td>\n",
       "      <td>1</td>\n",
       "      <td>0</td>\n",
       "      <td>0</td>\n",
       "      <td>0</td>\n",
       "      <td>0</td>\n",
       "      <td>0</td>\n",
       "    </tr>\n",
       "    <tr>\n",
       "      <th>1</th>\n",
       "      <td>0</td>\n",
       "      <td>0</td>\n",
       "      <td>0</td>\n",
       "      <td>1</td>\n",
       "      <td>0</td>\n",
       "      <td>0</td>\n",
       "      <td>0</td>\n",
       "    </tr>\n",
       "  </tbody>\n",
       "</table>\n",
       "</div>"
      ],
      "text/plain": [
       "    Fri  Mon  Sat  Sun  Thu  Tue  Wed\n",
       "16    0    1    0    0    0    0    0\n",
       "1     0    0    0    1    0    0    0"
      ]
     },
     "execution_count": 917,
     "metadata": {},
     "output_type": "execute_result"
    }
   ],
   "source": [
    "# One hot encode the categorical variable for the training set\n",
    "cat_train = X_train[[\"DayofWeek\"]]\n",
    "cat_train = pd.get_dummies(cat_train)\n",
    "cat_train.columns = [\"Fri\",\"Mon\",\"Sat\",\"Sun\",\"Thu\",\"Tue\",\"Wed\"]\n",
    "cat_train.head(2)"
   ]
  },
  {
   "cell_type": "code",
   "execution_count": 918,
   "id": "7d411542",
   "metadata": {},
   "outputs": [
    {
     "data": {
      "text/html": [
       "<div>\n",
       "<style scoped>\n",
       "    .dataframe tbody tr th:only-of-type {\n",
       "        vertical-align: middle;\n",
       "    }\n",
       "\n",
       "    .dataframe tbody tr th {\n",
       "        vertical-align: top;\n",
       "    }\n",
       "\n",
       "    .dataframe thead th {\n",
       "        text-align: right;\n",
       "    }\n",
       "</style>\n",
       "<table border=\"1\" class=\"dataframe\">\n",
       "  <thead>\n",
       "    <tr style=\"text-align: right;\">\n",
       "      <th></th>\n",
       "      <th>DayofWeek_Fri</th>\n",
       "      <th>DayofWeek_Mon</th>\n",
       "      <th>DayofWeek_Sat</th>\n",
       "      <th>DayofWeek_Thu</th>\n",
       "      <th>DayofWeek_Tue</th>\n",
       "    </tr>\n",
       "  </thead>\n",
       "  <tbody>\n",
       "    <tr>\n",
       "      <th>19</th>\n",
       "      <td>0</td>\n",
       "      <td>0</td>\n",
       "      <td>0</td>\n",
       "      <td>1</td>\n",
       "      <td>0</td>\n",
       "    </tr>\n",
       "    <tr>\n",
       "      <th>37</th>\n",
       "      <td>0</td>\n",
       "      <td>0</td>\n",
       "      <td>1</td>\n",
       "      <td>0</td>\n",
       "      <td>0</td>\n",
       "    </tr>\n",
       "  </tbody>\n",
       "</table>\n",
       "</div>"
      ],
      "text/plain": [
       "    DayofWeek_Fri  DayofWeek_Mon  DayofWeek_Sat  DayofWeek_Thu  DayofWeek_Tue\n",
       "19              0              0              0              1              0\n",
       "37              0              0              1              0              0"
      ]
     },
     "execution_count": 918,
     "metadata": {},
     "output_type": "execute_result"
    }
   ],
   "source": [
    "# Do the same for the test set\n",
    "cat_test = X_test[[\"DayofWeek\"]]\n",
    "cat_test = pd.get_dummies(cat_test)\n",
    "cat_test.head(2)"
   ]
  },
  {
   "cell_type": "code",
   "execution_count": 919,
   "id": "9d349559",
   "metadata": {},
   "outputs": [
    {
     "data": {
      "text/html": [
       "<div>\n",
       "<style scoped>\n",
       "    .dataframe tbody tr th:only-of-type {\n",
       "        vertical-align: middle;\n",
       "    }\n",
       "\n",
       "    .dataframe tbody tr th {\n",
       "        vertical-align: top;\n",
       "    }\n",
       "\n",
       "    .dataframe thead th {\n",
       "        text-align: right;\n",
       "    }\n",
       "</style>\n",
       "<table border=\"1\" class=\"dataframe\">\n",
       "  <thead>\n",
       "    <tr style=\"text-align: right;\">\n",
       "      <th></th>\n",
       "      <th>Fri</th>\n",
       "      <th>Mon</th>\n",
       "      <th>Sat</th>\n",
       "      <th>Sun</th>\n",
       "      <th>Thu</th>\n",
       "      <th>Tue</th>\n",
       "      <th>Wed</th>\n",
       "    </tr>\n",
       "  </thead>\n",
       "  <tbody>\n",
       "    <tr>\n",
       "      <th>19</th>\n",
       "      <td>0</td>\n",
       "      <td>0</td>\n",
       "      <td>0</td>\n",
       "      <td>0</td>\n",
       "      <td>1</td>\n",
       "      <td>0</td>\n",
       "      <td>0</td>\n",
       "    </tr>\n",
       "    <tr>\n",
       "      <th>37</th>\n",
       "      <td>0</td>\n",
       "      <td>0</td>\n",
       "      <td>1</td>\n",
       "      <td>0</td>\n",
       "      <td>0</td>\n",
       "      <td>0</td>\n",
       "      <td>0</td>\n",
       "    </tr>\n",
       "  </tbody>\n",
       "</table>\n",
       "</div>"
      ],
      "text/plain": [
       "    Fri  Mon  Sat  Sun  Thu  Tue  Wed\n",
       "19    0    0    0    0    1    0    0\n",
       "37    0    0    1    0    0    0    0"
      ]
     },
     "execution_count": 919,
     "metadata": {},
     "output_type": "execute_result"
    }
   ],
   "source": [
    "# Insert a column for Saturday in the same position as the training set which is missing in the test set\n",
    "cat_test.insert(5, 'DayofWeek_Wed', 0)\n",
    "cat_test.insert(3,'DayofWeek_Sun',0)\n",
    "cat_test.columns = [\"Fri\",\"Mon\",\"Sat\",\"Sun\",\"Thu\",\"Tue\",\"Wed\"]\n",
    "cat_test.head(2)"
   ]
  },
  {
   "cell_type": "code",
   "execution_count": 920,
   "id": "eef0a466",
   "metadata": {},
   "outputs": [],
   "source": [
    "# Scale numerical features\n",
    "num_train = X_train[[\"Pageviews\",\"Clicks\",\"Enrollments\"]]\n",
    "num_test = X_test[[\"Pageviews\",\"Clicks\",\"Enrollments\"]]\n",
    "scale = StandardScaler()\n",
    "num_train = pd.DataFrame(scale.fit_transform(num_train))\n",
    "num_train.columns = [\"Pageviews\",\"Clicks\",\"Enrollments\"]\n",
    "num_test = pd.DataFrame(scale.transform(num_test))\n",
    "num_test.columns = [\"Pageviews\",\"Clicks\",\"Enrollments\"]"
   ]
  },
  {
   "cell_type": "code",
   "execution_count": 921,
   "id": "451ee11b",
   "metadata": {},
   "outputs": [
    {
     "data": {
      "text/html": [
       "<div>\n",
       "<style scoped>\n",
       "    .dataframe tbody tr th:only-of-type {\n",
       "        vertical-align: middle;\n",
       "    }\n",
       "\n",
       "    .dataframe tbody tr th {\n",
       "        vertical-align: top;\n",
       "    }\n",
       "\n",
       "    .dataframe thead th {\n",
       "        text-align: right;\n",
       "    }\n",
       "</style>\n",
       "<table border=\"1\" class=\"dataframe\">\n",
       "  <thead>\n",
       "    <tr style=\"text-align: right;\">\n",
       "      <th></th>\n",
       "      <th>Pageviews</th>\n",
       "      <th>Clicks</th>\n",
       "      <th>Payments</th>\n",
       "      <th>Fri</th>\n",
       "      <th>Mon</th>\n",
       "      <th>Sat</th>\n",
       "      <th>Sun</th>\n",
       "      <th>Thu</th>\n",
       "      <th>Tue</th>\n",
       "      <th>Wed</th>\n",
       "      <th>Ind</th>\n",
       "    </tr>\n",
       "  </thead>\n",
       "  <tbody>\n",
       "    <tr>\n",
       "      <th>0</th>\n",
       "      <td>0.38</td>\n",
       "      <td>0.03</td>\n",
       "      <td>2.59</td>\n",
       "      <td>0</td>\n",
       "      <td>1</td>\n",
       "      <td>0</td>\n",
       "      <td>0</td>\n",
       "      <td>0</td>\n",
       "      <td>0</td>\n",
       "      <td>0</td>\n",
       "      <td>0</td>\n",
       "    </tr>\n",
       "    <tr>\n",
       "      <th>1</th>\n",
       "      <td>-0.20</td>\n",
       "      <td>0.31</td>\n",
       "      <td>-0.37</td>\n",
       "      <td>0</td>\n",
       "      <td>0</td>\n",
       "      <td>0</td>\n",
       "      <td>1</td>\n",
       "      <td>0</td>\n",
       "      <td>0</td>\n",
       "      <td>0</td>\n",
       "      <td>0</td>\n",
       "    </tr>\n",
       "    <tr>\n",
       "      <th>2</th>\n",
       "      <td>0.10</td>\n",
       "      <td>-0.26</td>\n",
       "      <td>1.32</td>\n",
       "      <td>0</td>\n",
       "      <td>0</td>\n",
       "      <td>0</td>\n",
       "      <td>0</td>\n",
       "      <td>0</td>\n",
       "      <td>0</td>\n",
       "      <td>1</td>\n",
       "      <td>0</td>\n",
       "    </tr>\n",
       "    <tr>\n",
       "      <th>3</th>\n",
       "      <td>-0.49</td>\n",
       "      <td>-0.91</td>\n",
       "      <td>-0.16</td>\n",
       "      <td>0</td>\n",
       "      <td>0</td>\n",
       "      <td>0</td>\n",
       "      <td>1</td>\n",
       "      <td>0</td>\n",
       "      <td>0</td>\n",
       "      <td>0</td>\n",
       "      <td>1</td>\n",
       "    </tr>\n",
       "    <tr>\n",
       "      <th>4</th>\n",
       "      <td>0.93</td>\n",
       "      <td>1.15</td>\n",
       "      <td>0.15</td>\n",
       "      <td>0</td>\n",
       "      <td>0</td>\n",
       "      <td>0</td>\n",
       "      <td>0</td>\n",
       "      <td>0</td>\n",
       "      <td>0</td>\n",
       "      <td>1</td>\n",
       "      <td>0</td>\n",
       "    </tr>\n",
       "  </tbody>\n",
       "</table>\n",
       "</div>"
      ],
      "text/plain": [
       "   Pageviews  Clicks  Payments  Fri  Mon  Sat  Sun  Thu  Tue  Wed  Ind\n",
       "0       0.38    0.03      2.59    0    1    0    0    0    0    0    0\n",
       "1      -0.20    0.31     -0.37    0    0    0    1    0    0    0    0\n",
       "2       0.10   -0.26      1.32    0    0    0    0    0    0    1    0\n",
       "3      -0.49   -0.91     -0.16    0    0    0    1    0    0    0    1\n",
       "4       0.93    1.15      0.15    0    0    0    0    0    0    1    0"
      ]
     },
     "execution_count": 921,
     "metadata": {},
     "output_type": "execute_result"
    }
   ],
   "source": [
    "# Concat the training and test data\n",
    "X_train = pd.concat([num_train.reset_index(drop = True), cat_train.reset_index(drop = True),X_train.Ind.reset_index(drop = True)],axis = 1,ignore_index = True)\n",
    "X_test = pd.concat([num_test.reset_index(drop = True), cat_test.reset_index(drop = True), X_test.Ind.reset_index(drop = True)],axis = 1)\n",
    "X_train.columns = ['Pageviews','Clicks','Payments','Fri','Mon','Sat','Sun','Thu','Tue','Wed','Ind']\n",
    "X_test.columns = ['Pageviews','Clicks','Payments','Fri','Mon','Sat','Sun','Thu','Tue','Wed','Ind']\n",
    "X_train.head()"
   ]
  },
  {
   "cell_type": "code",
   "execution_count": 922,
   "id": "69754c35",
   "metadata": {},
   "outputs": [
    {
     "data": {
      "text/html": [
       "<div>\n",
       "<style scoped>\n",
       "    .dataframe tbody tr th:only-of-type {\n",
       "        vertical-align: middle;\n",
       "    }\n",
       "\n",
       "    .dataframe tbody tr th {\n",
       "        vertical-align: top;\n",
       "    }\n",
       "\n",
       "    .dataframe thead th {\n",
       "        text-align: right;\n",
       "    }\n",
       "</style>\n",
       "<table border=\"1\" class=\"dataframe\">\n",
       "  <thead>\n",
       "    <tr style=\"text-align: right;\">\n",
       "      <th></th>\n",
       "      <th>Pageviews</th>\n",
       "      <th>Clicks</th>\n",
       "      <th>Payments</th>\n",
       "      <th>Fri</th>\n",
       "      <th>Mon</th>\n",
       "      <th>Sat</th>\n",
       "      <th>Sun</th>\n",
       "      <th>Thu</th>\n",
       "      <th>Tue</th>\n",
       "      <th>Wed</th>\n",
       "      <th>Ind</th>\n",
       "    </tr>\n",
       "  </thead>\n",
       "  <tbody>\n",
       "    <tr>\n",
       "      <th>0</th>\n",
       "      <td>0.13</td>\n",
       "      <td>-0.33</td>\n",
       "      <td>0.32</td>\n",
       "      <td>0</td>\n",
       "      <td>0</td>\n",
       "      <td>0</td>\n",
       "      <td>0</td>\n",
       "      <td>1</td>\n",
       "      <td>0</td>\n",
       "      <td>0</td>\n",
       "      <td>0</td>\n",
       "    </tr>\n",
       "    <tr>\n",
       "      <th>1</th>\n",
       "      <td>-0.77</td>\n",
       "      <td>-1.26</td>\n",
       "      <td>-1.06</td>\n",
       "      <td>0</td>\n",
       "      <td>0</td>\n",
       "      <td>1</td>\n",
       "      <td>0</td>\n",
       "      <td>0</td>\n",
       "      <td>0</td>\n",
       "      <td>0</td>\n",
       "      <td>1</td>\n",
       "    </tr>\n",
       "    <tr>\n",
       "      <th>2</th>\n",
       "      <td>0.25</td>\n",
       "      <td>-1.20</td>\n",
       "      <td>2.14</td>\n",
       "      <td>1</td>\n",
       "      <td>0</td>\n",
       "      <td>0</td>\n",
       "      <td>0</td>\n",
       "      <td>0</td>\n",
       "      <td>0</td>\n",
       "      <td>0</td>\n",
       "      <td>0</td>\n",
       "    </tr>\n",
       "    <tr>\n",
       "      <th>3</th>\n",
       "      <td>-1.23</td>\n",
       "      <td>-1.31</td>\n",
       "      <td>-1.06</td>\n",
       "      <td>0</td>\n",
       "      <td>0</td>\n",
       "      <td>0</td>\n",
       "      <td>0</td>\n",
       "      <td>1</td>\n",
       "      <td>0</td>\n",
       "      <td>0</td>\n",
       "      <td>0</td>\n",
       "    </tr>\n",
       "    <tr>\n",
       "      <th>4</th>\n",
       "      <td>-2.04</td>\n",
       "      <td>-1.01</td>\n",
       "      <td>-1.81</td>\n",
       "      <td>0</td>\n",
       "      <td>0</td>\n",
       "      <td>1</td>\n",
       "      <td>0</td>\n",
       "      <td>0</td>\n",
       "      <td>0</td>\n",
       "      <td>0</td>\n",
       "      <td>1</td>\n",
       "    </tr>\n",
       "  </tbody>\n",
       "</table>\n",
       "</div>"
      ],
      "text/plain": [
       "   Pageviews  Clicks  Payments  Fri  Mon  Sat  Sun  Thu  Tue  Wed  Ind\n",
       "0       0.13   -0.33      0.32    0    0    0    0    1    0    0    0\n",
       "1      -0.77   -1.26     -1.06    0    0    1    0    0    0    0    1\n",
       "2       0.25   -1.20      2.14    1    0    0    0    0    0    0    0\n",
       "3      -1.23   -1.31     -1.06    0    0    0    0    1    0    0    0\n",
       "4      -2.04   -1.01     -1.81    0    0    1    0    0    0    0    1"
      ]
     },
     "execution_count": 922,
     "metadata": {},
     "output_type": "execute_result"
    }
   ],
   "source": [
    "X_test.head()"
   ]
  },
  {
   "cell_type": "markdown",
   "id": "ad8a6051",
   "metadata": {},
   "source": [
    "## Build Models to Predict Payments"
   ]
  },
  {
   "cell_type": "code",
   "execution_count": 925,
   "id": "ee84180e",
   "metadata": {},
   "outputs": [],
   "source": [
    "lr = LinearRegression()\n",
    "rf = RandomForestRegressor()\n",
    "svm = SVR()"
   ]
  },
  {
   "cell_type": "code",
   "execution_count": 927,
   "id": "e158f7ce",
   "metadata": {},
   "outputs": [],
   "source": [
    "model1 = lr.fit(X_train, y_train)\n",
    "model2 = rf.fit(X_train, y_train)\n",
    "model3 = svm.fit(X_train, y_train)"
   ]
  },
  {
   "cell_type": "code",
   "execution_count": 930,
   "id": "d3d5cea1",
   "metadata": {},
   "outputs": [
    {
     "name": "stdout",
     "output_type": "stream",
     "text": [
      "0.5119976620675968\n",
      "0.8685113661142727\n",
      "0.011084797918753386\n"
     ]
    }
   ],
   "source": [
    "print(model1.score(X_train, y_train))\n",
    "print(model2.score(X_train, y_train))\n",
    "print(model3.score(X_train, y_train))"
   ]
  },
  {
   "cell_type": "markdown",
   "id": "49f7cc30",
   "metadata": {},
   "source": [
    "* The random forest model result has the highest coefficient of determination (R-squared) so more than 80% of the points should fall within the regression line. \n",
    "* We expect the value to be between 0 and 1\n",
    "* The support vector regressor value is close to 0, indicating that the regression line represents none of the datapoints."
   ]
  },
  {
   "cell_type": "code",
   "execution_count": 932,
   "id": "d728bc26",
   "metadata": {},
   "outputs": [
    {
     "data": {
      "text/plain": [
       "array([ 90,  68,  97,  65,  73, 104,  88,  92,  73,  86])"
      ]
     },
     "execution_count": 932,
     "metadata": {},
     "output_type": "execute_result"
    }
   ],
   "source": [
    "# Get predictions\n",
    "y_pred = rf.predict(X_test).astype(int)\n",
    "y_pred"
   ]
  },
  {
   "cell_type": "code",
   "execution_count": 933,
   "id": "d243200a",
   "metadata": {},
   "outputs": [
    {
     "data": {
      "text/plain": [
       "array([ 75,  81, 122,  56,  34, 123,  71,  98,  62, 119])"
      ]
     },
     "execution_count": 933,
     "metadata": {},
     "output_type": "execute_result"
    }
   ],
   "source": [
    "y_test = np.array(y_test)\n",
    "y_test"
   ]
  },
  {
   "cell_type": "code",
   "execution_count": 943,
   "id": "1c41d20a",
   "metadata": {},
   "outputs": [
    {
     "data": {
      "image/png": "[encoded data removed]",
      "text/plain": [
       "<Figure size 640x480 with 1 Axes>"
      ]
     },
     "metadata": {},
     "output_type": "display_data"
    }
   ],
   "source": [
    "# Plot the results of the prediction against true y values\n",
    "plt.plot(y_test)\n",
    "plt.plot(y_pred)\n",
    "plt.title(\"Predicted and Actual Payment Values\");"
   ]
  },
  {
   "cell_type": "code",
   "execution_count": 934,
   "id": "edc864c6",
   "metadata": {},
   "outputs": [
    {
     "data": {
      "text/plain": [
       "21.253235047869772"
      ]
     },
     "execution_count": 934,
     "metadata": {},
     "output_type": "execute_result"
    }
   ],
   "source": [
    "# RMSE\n",
    "np.sqrt(mean_squared_error(y_test, y_pred))"
   ]
  },
  {
   "cell_type": "code",
   "execution_count": 935,
   "id": "e9eb1504",
   "metadata": {},
   "outputs": [
    {
     "data": {
      "text/plain": [
       "0.4630864505699581"
      ]
     },
     "execution_count": 935,
     "metadata": {},
     "output_type": "execute_result"
    }
   ],
   "source": [
    "# R squared\n",
    "r2_score = r2_score(y_test, y_pred)\n",
    "r2_score"
   ]
  },
  {
   "cell_type": "code",
   "execution_count": 937,
   "id": "33dcbe9f",
   "metadata": {},
   "outputs": [
    {
     "data": {
      "text/plain": [
       "{'bootstrap': True,\n",
       " 'ccp_alpha': 0.0,\n",
       " 'criterion': 'squared_error',\n",
       " 'max_depth': None,\n",
       " 'max_features': 1.0,\n",
       " 'max_leaf_nodes': None,\n",
       " 'max_samples': None,\n",
       " 'min_impurity_decrease': 0.0,\n",
       " 'min_samples_leaf': 1,\n",
       " 'min_samples_split': 2,\n",
       " 'min_weight_fraction_leaf': 0.0,\n",
       " 'n_estimators': 100,\n",
       " 'n_jobs': None,\n",
       " 'oob_score': False,\n",
       " 'random_state': None,\n",
       " 'verbose': 0,\n",
       " 'warm_start': False}"
      ]
     },
     "execution_count": 937,
     "metadata": {},
     "output_type": "execute_result"
    }
   ],
   "source": [
    "rf.get_params()"
   ]
  },
  {
   "cell_type": "markdown",
   "id": "cbe84a0e",
   "metadata": {},
   "source": [
    "* The r2 value on the test set is not as good as for the training set, suggesting we may have overfitted the model\n",
    "* The dataset is very small so we might expect this\n",
    "* We would normally try to reduce the depth of tree or the number of variables sampled at each split but there is not much scope to do this as the depth is default at None and the split at 2.\n",
    "* The model is only able to explain 46% of the variability in payments based on clicks, enrolments, page views and whether or not the user is shown the popup.\n",
    "* Suggestion - more data"
   ]
  }
 ],
 "metadata": {
  "kernelspec": {
   "display_name": "Python 3 (ipykernel)",
   "language": "python",
   "name": "python3"
  },
  "language_info": {
   "codemirror_mode": {
    "name": "ipython",
    "version": 3
   },
   "file_extension": ".py",
   "mimetype": "text/x-python",
   "name": "python",
   "nbconvert_exporter": "python",
   "pygments_lexer": "ipython3",
   "version": "3.8.5"
  }
 },
 "nbformat": 4,
 "nbformat_minor": 5
}
