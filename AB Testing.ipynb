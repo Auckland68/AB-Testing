{
 "cells": [
  {
   "cell_type": "markdown",
   "id": "b71eb6a4",
   "metadata": {},
   "source": [
    "# AB Testing"
   ]
  },
  {
   "cell_type": "markdown",
   "id": "35d01eb0",
   "metadata": {},
   "source": [
    "[Kaggle Dataset Source:](https://www.kaggle.com/datasets/zhangluyuan/ab-testing?resource=download)\n",
    "\n",
    "[Worked Example](https://towardsdatascience.com/ab-testing-with-python-e5964dd66143)\n",
    "\n",
    "* Current conversion rate is about 13% on average throughout the year \n",
    "* The team would be happy with an increase of 2%\n",
    "* Therefore the new design will be considered a success if it raises the conversion rate to 15%\n",
    "* AB testing on a subset of users\n",
    "* Hₒ: p = pₒ and Hₐ: p ≠ pₒ\n",
    "* Confidence level of 95% so alpha = 0.05\n",
    "\n",
    "Considerations:\n",
    "\n",
    "* We need to be 95% confident the observed new conversion rate is statistically significantly different from the conversion rate of our old design, before rejecting the null Hₒ\n",
    "* Control group - old design, treatment group - new design\n",
    "* The group is the independent variable X and the conversion rate is the dependent variable y\n",
    "* Number of user sessions in each group affects the precision of the conversion rate estimate - larger sample size then more precise the estimate (smaller confidence intervals) and higher likelihood of identifying a difference between groups.\n"
   ]
  },
  {
   "cell_type": "markdown",
   "id": "dcf7bb1f",
   "metadata": {},
   "source": [
    "## Import Data and Libraries"
   ]
  },
  {
   "cell_type": "code",
   "execution_count": 209,
   "id": "eeec3dcd",
   "metadata": {},
   "outputs": [],
   "source": [
    "import pandas as pd\n",
    "import numpy as np\n",
    "import matplotlib.pyplot as plt\n",
    "import seaborn as sns\n",
    "\n",
    "import scipy.stats as stats\n",
    "from scipy.stats import sem\n",
    "import statsmodels.stats.api as sm\n",
    "from statsmodels.stats.proportion import proportions_ztest, proportion_confint"
   ]
  },
  {
   "cell_type": "code",
   "execution_count": 30,
   "id": "72c71e77",
   "metadata": {},
   "outputs": [],
   "source": [
    "df = pd.read_csv(\"C:/Users/imoge/Projects/Datasets/ab_data.csv\")"
   ]
  },
  {
   "cell_type": "markdown",
   "id": "cb970efc",
   "metadata": {},
   "source": [
    "## Data Preparation"
   ]
  },
  {
   "cell_type": "code",
   "execution_count": 31,
   "id": "9ecce114",
   "metadata": {},
   "outputs": [
    {
     "data": {
      "text/html": [
       "<div>\n",
       "<style scoped>\n",
       "    .dataframe tbody tr th:only-of-type {\n",
       "        vertical-align: middle;\n",
       "    }\n",
       "\n",
       "    .dataframe tbody tr th {\n",
       "        vertical-align: top;\n",
       "    }\n",
       "\n",
       "    .dataframe thead th {\n",
       "        text-align: right;\n",
       "    }\n",
       "</style>\n",
       "<table border=\"1\" class=\"dataframe\">\n",
       "  <thead>\n",
       "    <tr style=\"text-align: right;\">\n",
       "      <th></th>\n",
       "      <th>user_id</th>\n",
       "      <th>timestamp</th>\n",
       "      <th>group</th>\n",
       "      <th>landing_page</th>\n",
       "      <th>converted</th>\n",
       "    </tr>\n",
       "  </thead>\n",
       "  <tbody>\n",
       "    <tr>\n",
       "      <th>0</th>\n",
       "      <td>851104</td>\n",
       "      <td>2017-01-21 22:11:48.556739</td>\n",
       "      <td>control</td>\n",
       "      <td>old_page</td>\n",
       "      <td>0</td>\n",
       "    </tr>\n",
       "    <tr>\n",
       "      <th>1</th>\n",
       "      <td>804228</td>\n",
       "      <td>2017-01-12 08:01:45.159739</td>\n",
       "      <td>control</td>\n",
       "      <td>old_page</td>\n",
       "      <td>0</td>\n",
       "    </tr>\n",
       "    <tr>\n",
       "      <th>2</th>\n",
       "      <td>661590</td>\n",
       "      <td>2017-01-11 16:55:06.154213</td>\n",
       "      <td>treatment</td>\n",
       "      <td>new_page</td>\n",
       "      <td>0</td>\n",
       "    </tr>\n",
       "    <tr>\n",
       "      <th>3</th>\n",
       "      <td>853541</td>\n",
       "      <td>2017-01-08 18:28:03.143765</td>\n",
       "      <td>treatment</td>\n",
       "      <td>new_page</td>\n",
       "      <td>0</td>\n",
       "    </tr>\n",
       "    <tr>\n",
       "      <th>4</th>\n",
       "      <td>864975</td>\n",
       "      <td>2017-01-21 01:52:26.210827</td>\n",
       "      <td>control</td>\n",
       "      <td>old_page</td>\n",
       "      <td>1</td>\n",
       "    </tr>\n",
       "  </tbody>\n",
       "</table>\n",
       "</div>"
      ],
      "text/plain": [
       "   user_id                   timestamp      group landing_page  converted\n",
       "0   851104  2017-01-21 22:11:48.556739    control     old_page          0\n",
       "1   804228  2017-01-12 08:01:45.159739    control     old_page          0\n",
       "2   661590  2017-01-11 16:55:06.154213  treatment     new_page          0\n",
       "3   853541  2017-01-08 18:28:03.143765  treatment     new_page          0\n",
       "4   864975  2017-01-21 01:52:26.210827    control     old_page          1"
      ]
     },
     "execution_count": 31,
     "metadata": {},
     "output_type": "execute_result"
    }
   ],
   "source": [
    "df.head()"
   ]
  },
  {
   "cell_type": "code",
   "execution_count": 32,
   "id": "aaa87c8e",
   "metadata": {},
   "outputs": [
    {
     "data": {
      "text/plain": [
       "(294478, 5)"
      ]
     },
     "execution_count": 32,
     "metadata": {},
     "output_type": "execute_result"
    }
   ],
   "source": [
    "df.shape"
   ]
  },
  {
   "cell_type": "code",
   "execution_count": 33,
   "id": "f9ff2f98",
   "metadata": {},
   "outputs": [
    {
     "name": "stdout",
     "output_type": "stream",
     "text": [
      "<class 'pandas.core.frame.DataFrame'>\n",
      "RangeIndex: 294478 entries, 0 to 294477\n",
      "Data columns (total 5 columns):\n",
      " #   Column        Non-Null Count   Dtype \n",
      "---  ------        --------------   ----- \n",
      " 0   user_id       294478 non-null  int64 \n",
      " 1   timestamp     294478 non-null  object\n",
      " 2   group         294478 non-null  object\n",
      " 3   landing_page  294478 non-null  object\n",
      " 4   converted     294478 non-null  int64 \n",
      "dtypes: int64(2), object(3)\n",
      "memory usage: 11.2+ MB\n"
     ]
    }
   ],
   "source": [
    "df.info()"
   ]
  },
  {
   "cell_type": "code",
   "execution_count": 34,
   "id": "2a7287d4",
   "metadata": {},
   "outputs": [
    {
     "data": {
      "text/html": [
       "<div>\n",
       "<style scoped>\n",
       "    .dataframe tbody tr th:only-of-type {\n",
       "        vertical-align: middle;\n",
       "    }\n",
       "\n",
       "    .dataframe tbody tr th {\n",
       "        vertical-align: top;\n",
       "    }\n",
       "\n",
       "    .dataframe thead th {\n",
       "        text-align: right;\n",
       "    }\n",
       "</style>\n",
       "<table border=\"1\" class=\"dataframe\">\n",
       "  <thead>\n",
       "    <tr style=\"text-align: right;\">\n",
       "      <th></th>\n",
       "      <th>user_id</th>\n",
       "      <th>timestamp</th>\n",
       "      <th>group</th>\n",
       "      <th>landing_page</th>\n",
       "      <th>converted</th>\n",
       "      <th>day</th>\n",
       "    </tr>\n",
       "  </thead>\n",
       "  <tbody>\n",
       "    <tr>\n",
       "      <th>0</th>\n",
       "      <td>851104</td>\n",
       "      <td>2017-01-21 22:11:48.556739</td>\n",
       "      <td>control</td>\n",
       "      <td>old_page</td>\n",
       "      <td>0</td>\n",
       "      <td>21</td>\n",
       "    </tr>\n",
       "    <tr>\n",
       "      <th>1</th>\n",
       "      <td>804228</td>\n",
       "      <td>2017-01-12 08:01:45.159739</td>\n",
       "      <td>control</td>\n",
       "      <td>old_page</td>\n",
       "      <td>0</td>\n",
       "      <td>12</td>\n",
       "    </tr>\n",
       "    <tr>\n",
       "      <th>2</th>\n",
       "      <td>661590</td>\n",
       "      <td>2017-01-11 16:55:06.154213</td>\n",
       "      <td>treatment</td>\n",
       "      <td>new_page</td>\n",
       "      <td>0</td>\n",
       "      <td>11</td>\n",
       "    </tr>\n",
       "    <tr>\n",
       "      <th>3</th>\n",
       "      <td>853541</td>\n",
       "      <td>2017-01-08 18:28:03.143765</td>\n",
       "      <td>treatment</td>\n",
       "      <td>new_page</td>\n",
       "      <td>0</td>\n",
       "      <td>8</td>\n",
       "    </tr>\n",
       "    <tr>\n",
       "      <th>4</th>\n",
       "      <td>864975</td>\n",
       "      <td>2017-01-21 01:52:26.210827</td>\n",
       "      <td>control</td>\n",
       "      <td>old_page</td>\n",
       "      <td>1</td>\n",
       "      <td>21</td>\n",
       "    </tr>\n",
       "  </tbody>\n",
       "</table>\n",
       "</div>"
      ],
      "text/plain": [
       "   user_id                  timestamp      group landing_page  converted  day\n",
       "0   851104 2017-01-21 22:11:48.556739    control     old_page          0   21\n",
       "1   804228 2017-01-12 08:01:45.159739    control     old_page          0   12\n",
       "2   661590 2017-01-11 16:55:06.154213  treatment     new_page          0   11\n",
       "3   853541 2017-01-08 18:28:03.143765  treatment     new_page          0    8\n",
       "4   864975 2017-01-21 01:52:26.210827    control     old_page          1   21"
      ]
     },
     "execution_count": 34,
     "metadata": {},
     "output_type": "execute_result"
    }
   ],
   "source": [
    "# Convert timestamp to date object\n",
    "df.timestamp = pd.to_datetime(df['timestamp'])\n",
    "df['day'] = pd.DatetimeIndex(df['timestamp']).day\n",
    "df.head()"
   ]
  },
  {
   "cell_type": "markdown",
   "id": "a9c7166b",
   "metadata": {},
   "source": [
    "## Data Exploration"
   ]
  },
  {
   "cell_type": "code",
   "execution_count": 46,
   "id": "ce3afc5e",
   "metadata": {},
   "outputs": [
    {
     "data": {
      "text/plain": [
       "False    290584\n",
       "True       3894\n",
       "Name: user_id, dtype: int64"
      ]
     },
     "execution_count": 46,
     "metadata": {},
     "output_type": "execute_result"
    }
   ],
   "source": [
    "# Visitor user_id duplicated - indicate multiple visits\n",
    "df.user_id.duplicated().value_counts()"
   ]
  },
  {
   "cell_type": "code",
   "execution_count": 63,
   "id": "279e54a1",
   "metadata": {},
   "outputs": [
    {
     "data": {
      "text/html": [
       "<div>\n",
       "<style scoped>\n",
       "    .dataframe tbody tr th:only-of-type {\n",
       "        vertical-align: middle;\n",
       "    }\n",
       "\n",
       "    .dataframe tbody tr th {\n",
       "        vertical-align: top;\n",
       "    }\n",
       "\n",
       "    .dataframe thead th {\n",
       "        text-align: right;\n",
       "    }\n",
       "</style>\n",
       "<table border=\"1\" class=\"dataframe\">\n",
       "  <thead>\n",
       "    <tr style=\"text-align: right;\">\n",
       "      <th></th>\n",
       "      <th>day</th>\n",
       "    </tr>\n",
       "  </thead>\n",
       "  <tbody>\n",
       "    <tr>\n",
       "      <th>2</th>\n",
       "      <td>5783</td>\n",
       "    </tr>\n",
       "    <tr>\n",
       "      <th>3</th>\n",
       "      <td>13394</td>\n",
       "    </tr>\n",
       "    <tr>\n",
       "      <th>4</th>\n",
       "      <td>13284</td>\n",
       "    </tr>\n",
       "    <tr>\n",
       "      <th>5</th>\n",
       "      <td>13124</td>\n",
       "    </tr>\n",
       "    <tr>\n",
       "      <th>6</th>\n",
       "      <td>13528</td>\n",
       "    </tr>\n",
       "    <tr>\n",
       "      <th>7</th>\n",
       "      <td>13381</td>\n",
       "    </tr>\n",
       "    <tr>\n",
       "      <th>8</th>\n",
       "      <td>13564</td>\n",
       "    </tr>\n",
       "    <tr>\n",
       "      <th>9</th>\n",
       "      <td>13439</td>\n",
       "    </tr>\n",
       "    <tr>\n",
       "      <th>10</th>\n",
       "      <td>13523</td>\n",
       "    </tr>\n",
       "    <tr>\n",
       "      <th>11</th>\n",
       "      <td>13553</td>\n",
       "    </tr>\n",
       "    <tr>\n",
       "      <th>12</th>\n",
       "      <td>13322</td>\n",
       "    </tr>\n",
       "    <tr>\n",
       "      <th>13</th>\n",
       "      <td>13238</td>\n",
       "    </tr>\n",
       "    <tr>\n",
       "      <th>14</th>\n",
       "      <td>13329</td>\n",
       "    </tr>\n",
       "    <tr>\n",
       "      <th>15</th>\n",
       "      <td>13449</td>\n",
       "    </tr>\n",
       "    <tr>\n",
       "      <th>16</th>\n",
       "      <td>13327</td>\n",
       "    </tr>\n",
       "    <tr>\n",
       "      <th>17</th>\n",
       "      <td>13322</td>\n",
       "    </tr>\n",
       "    <tr>\n",
       "      <th>18</th>\n",
       "      <td>13285</td>\n",
       "    </tr>\n",
       "    <tr>\n",
       "      <th>19</th>\n",
       "      <td>13293</td>\n",
       "    </tr>\n",
       "    <tr>\n",
       "      <th>20</th>\n",
       "      <td>13393</td>\n",
       "    </tr>\n",
       "    <tr>\n",
       "      <th>21</th>\n",
       "      <td>13475</td>\n",
       "    </tr>\n",
       "    <tr>\n",
       "      <th>22</th>\n",
       "      <td>13423</td>\n",
       "    </tr>\n",
       "    <tr>\n",
       "      <th>23</th>\n",
       "      <td>13511</td>\n",
       "    </tr>\n",
       "    <tr>\n",
       "      <th>24</th>\n",
       "      <td>7538</td>\n",
       "    </tr>\n",
       "  </tbody>\n",
       "</table>\n",
       "</div>"
      ],
      "text/plain": [
       "      day\n",
       "2    5783\n",
       "3   13394\n",
       "4   13284\n",
       "5   13124\n",
       "6   13528\n",
       "7   13381\n",
       "8   13564\n",
       "9   13439\n",
       "10  13523\n",
       "11  13553\n",
       "12  13322\n",
       "13  13238\n",
       "14  13329\n",
       "15  13449\n",
       "16  13327\n",
       "17  13322\n",
       "18  13285\n",
       "19  13293\n",
       "20  13393\n",
       "21  13475\n",
       "22  13423\n",
       "23  13511\n",
       "24   7538"
      ]
     },
     "execution_count": 63,
     "metadata": {},
     "output_type": "execute_result"
    }
   ],
   "source": [
    "# Visits by day in January 2017\n",
    "pd.DataFrame(df.day.value_counts()).sort_index()"
   ]
  },
  {
   "cell_type": "code",
   "execution_count": 49,
   "id": "d6a5ae04",
   "metadata": {},
   "outputs": [
    {
     "data": {
      "text/plain": [
       "12803.391304347826"
      ]
     },
     "execution_count": 49,
     "metadata": {},
     "output_type": "execute_result"
    }
   ],
   "source": [
    "# Mean number of visits per day\n",
    "df.day.value_counts().mean()"
   ]
  },
  {
   "cell_type": "code",
   "execution_count": 43,
   "id": "e3ea3941",
   "metadata": {},
   "outputs": [
    {
     "data": {
      "image/png": "[encoded data removed]",
      "text/plain": [
       "<Figure size 640x480 with 1 Axes>"
      ]
     },
     "metadata": {},
     "output_type": "display_data"
    }
   ],
   "source": [
    "# Converted visits\n",
    "sns.countplot(data = df, x = \"converted\")\n",
    "plt.title(\"Converted Versus Unconverted\");"
   ]
  },
  {
   "cell_type": "code",
   "execution_count": 68,
   "id": "1718e31f",
   "metadata": {},
   "outputs": [
    {
     "data": {
      "text/plain": [
       "11.97"
      ]
     },
     "execution_count": 68,
     "metadata": {},
     "output_type": "execute_result"
    }
   ],
   "source": [
    "# Conversion rate for both groups\n",
    "round(((df[\"converted\"] == 1).sum())/df.shape[0]*100,2)"
   ]
  },
  {
   "cell_type": "code",
   "execution_count": 89,
   "id": "7949a4db",
   "metadata": {},
   "outputs": [],
   "source": [
    "# By group\n",
    "control = df[df[\"group\"]==\"control\"]\n",
    "treat = df[df[\"group\"] == \"treatment\"]"
   ]
  },
  {
   "cell_type": "code",
   "execution_count": 145,
   "id": "240362e7",
   "metadata": {},
   "outputs": [
    {
     "name": "stdout",
     "output_type": "stream",
     "text": [
      "Control Group Conversion: 12.039917935897611\n",
      "Treatment Group Conversion: 11.891957956489856\n"
     ]
    }
   ],
   "source": [
    "# Percentage conversion by group\n",
    "print(\"Control Group Conversion:\", control[\"converted\"].value_counts()[1]/control.shape[0]*100)\n",
    "print(\"Treatment Group Conversion:\", treat[\"converted\"].value_counts()[1]/treat.shape[0]*100)"
   ]
  },
  {
   "cell_type": "markdown",
   "id": "b224794c",
   "metadata": {},
   "source": [
    "Slight difference in conversion between the two groups"
   ]
  },
  {
   "cell_type": "code",
   "execution_count": 125,
   "id": "df49a516",
   "metadata": {},
   "outputs": [
    {
     "data": {
      "image/png": "[encoded data removed]",
      "text/plain": [
       "<Figure size 640x480 with 1 Axes>"
      ]
     },
     "metadata": {},
     "output_type": "display_data"
    }
   ],
   "source": [
    "# Percent conversion by day\n",
    "df[df[\"converted\"]==1].groupby(\"day\")[\"user_id\"].count().plot(kind = \"bar\")\n",
    "plt.title(\"Number Converted by Day\");"
   ]
  },
  {
   "cell_type": "code",
   "execution_count": 141,
   "id": "6b06bc8d",
   "metadata": {},
   "outputs": [],
   "source": [
    "con_df = pd.DataFrame(df[df[\"converted\"]==1].groupby(\"day\")[\"user_id\"].count())\n",
    "all_df = pd.DataFrame(df.groupby(\"day\")[\"user_id\"].count())\n",
    "all_conv = pd.concat([con_df,all_df],axis = 1)\n",
    "all_conv.columns = [\"Converted\",\"Total\"]\n",
    "all_conv[\"%Conv\"]= round((all_conv[\"Converted\"]/all_conv[\"Total\"]*100),2)"
   ]
  },
  {
   "cell_type": "code",
   "execution_count": 144,
   "id": "63f9dba0",
   "metadata": {},
   "outputs": [
    {
     "data": {
      "image/png": "[encoded data removed]",
      "text/plain": [
       "<Figure size 640x480 with 1 Axes>"
      ]
     },
     "metadata": {},
     "output_type": "display_data"
    }
   ],
   "source": [
    "all_conv[\"%Conv\"].plot(kind = \"bar\")\n",
    "plt.title(\"Conversion Rates By Day of Month\");"
   ]
  },
  {
   "cell_type": "markdown",
   "id": "a1e59c29",
   "metadata": {},
   "source": [
    "No real difference in conversion rates by day"
   ]
  },
  {
   "cell_type": "markdown",
   "id": "284f5179",
   "metadata": {},
   "source": [
    "## Take Sample"
   ]
  },
  {
   "cell_type": "markdown",
   "id": "eca79776",
   "metadata": {},
   "source": [
    "* Power of the test (1 — β) — the probability of finding a statistical difference between the groups when a difference is actually present. This is usually set at 0.8 by convention \n",
    "* Alpha value (α) — The critical value of 0.05\n",
    "* Effect size — the difference we expect there to be between the conversion rates (in this case 2% per business case)"
   ]
  },
  {
   "cell_type": "code",
   "execution_count": 174,
   "id": "55f2c084",
   "metadata": {},
   "outputs": [
    {
     "name": "stdout",
     "output_type": "stream",
     "text": [
      "4719\n"
     ]
    }
   ],
   "source": [
    "# Determine sample size\n",
    "effect = sm.proportion_effectsize(0.13, 0.15)    # comparing two proportions\n",
    "\n",
    "num = sms.NormalIndPower().solve_power(\n",
    "    effect, \n",
    "    power=0.8, # 80% chance to detect a difference\n",
    "    alpha=0.05, \n",
    "    ratio=1\n",
    "    )                                                                                            \n",
    "\n",
    "num = int(round(num,0))                          \n",
    "print(num)"
   ]
  },
  {
   "cell_type": "code",
   "execution_count": 158,
   "id": "6e00c65b",
   "metadata": {},
   "outputs": [
    {
     "data": {
      "text/plain": [
       "805339    2\n",
       "754884    2\n",
       "722274    2\n",
       "783176    2\n",
       "898232    2\n",
       "Name: user_id, dtype: int64"
      ]
     },
     "execution_count": 158,
     "metadata": {},
     "output_type": "execute_result"
    }
   ],
   "source": [
    "# Duplicate users\n",
    "session_counts = df['user_id'].value_counts(ascending=False)\n",
    "session_counts.head()"
   ]
  },
  {
   "cell_type": "code",
   "execution_count": 159,
   "id": "00af15d1",
   "metadata": {},
   "outputs": [
    {
     "name": "stdout",
     "output_type": "stream",
     "text": [
      "The updated dataset now has 286690 entries\n"
     ]
    }
   ],
   "source": [
    "# Drop duplicate users\n",
    "multi_users = session_counts[session_counts > 1].count()\n",
    "drop_users = session_counts[session_counts > 1].index\n",
    "\n",
    "df = df[~df['user_id'].isin(drop_users)]\n",
    "print(f'The updated dataset now has {df.shape[0]} entries')"
   ]
  },
  {
   "cell_type": "code",
   "execution_count": 176,
   "id": "09ba2ec2",
   "metadata": {},
   "outputs": [],
   "source": [
    "# Sample from the cleaned data\n",
    "control_sample = df[df['group'] == 'control'].sample(n=num, random_state=0)\n",
    "treatment_sample = df[df['group'] == 'treatment'].sample(n=num, random_state=0)"
   ]
  },
  {
   "cell_type": "code",
   "execution_count": 203,
   "id": "5ed7f1ef",
   "metadata": {},
   "outputs": [
    {
     "data": {
      "text/html": [
       "<div>\n",
       "<style scoped>\n",
       "    .dataframe tbody tr th:only-of-type {\n",
       "        vertical-align: middle;\n",
       "    }\n",
       "\n",
       "    .dataframe tbody tr th {\n",
       "        vertical-align: top;\n",
       "    }\n",
       "\n",
       "    .dataframe thead th {\n",
       "        text-align: right;\n",
       "    }\n",
       "</style>\n",
       "<table border=\"1\" class=\"dataframe\">\n",
       "  <thead>\n",
       "    <tr style=\"text-align: right;\">\n",
       "      <th></th>\n",
       "      <th>user_id</th>\n",
       "      <th>timestamp</th>\n",
       "      <th>group</th>\n",
       "      <th>landing_page</th>\n",
       "      <th>converted</th>\n",
       "      <th>day</th>\n",
       "    </tr>\n",
       "  </thead>\n",
       "  <tbody>\n",
       "    <tr>\n",
       "      <th>0</th>\n",
       "      <td>740761</td>\n",
       "      <td>2017-01-19 23:06:22.166842</td>\n",
       "      <td>control</td>\n",
       "      <td>old_page</td>\n",
       "      <td>0</td>\n",
       "      <td>19</td>\n",
       "    </tr>\n",
       "    <tr>\n",
       "      <th>1</th>\n",
       "      <td>685906</td>\n",
       "      <td>2017-01-15 13:37:19.383548</td>\n",
       "      <td>control</td>\n",
       "      <td>old_page</td>\n",
       "      <td>0</td>\n",
       "      <td>15</td>\n",
       "    </tr>\n",
       "  </tbody>\n",
       "</table>\n",
       "</div>"
      ],
      "text/plain": [
       "   user_id                  timestamp    group landing_page  converted  day\n",
       "0   740761 2017-01-19 23:06:22.166842  control     old_page          0   19\n",
       "1   685906 2017-01-15 13:37:19.383548  control     old_page          0   15"
      ]
     },
     "execution_count": 203,
     "metadata": {},
     "output_type": "execute_result"
    }
   ],
   "source": [
    "# Concat the control and treatment sample back to a single dataframe\n",
    "ab_test = pd.concat([control_sample, treatment_sample], axis=0)\n",
    "ab_test.reset_index(drop = True, inplace = True)\n",
    "ab_test.head(2)"
   ]
  },
  {
   "cell_type": "code",
   "execution_count": 184,
   "id": "dad97492",
   "metadata": {},
   "outputs": [
    {
     "data": {
      "text/plain": [
       "control      4719\n",
       "treatment    4719\n",
       "Name: group, dtype: int64"
      ]
     },
     "execution_count": 184,
     "metadata": {},
     "output_type": "execute_result"
    }
   ],
   "source": [
    "# Check the numbers in each group\n",
    "ab_test[\"group\"].value_counts()"
   ]
  },
  {
   "cell_type": "code",
   "execution_count": 185,
   "id": "72d45fda",
   "metadata": {},
   "outputs": [
    {
     "name": "stdout",
     "output_type": "stream",
     "text": [
      "<class 'pandas.core.frame.DataFrame'>\n",
      "RangeIndex: 9438 entries, 0 to 9437\n",
      "Data columns (total 6 columns):\n",
      " #   Column        Non-Null Count  Dtype         \n",
      "---  ------        --------------  -----         \n",
      " 0   user_id       9438 non-null   int64         \n",
      " 1   timestamp     9438 non-null   datetime64[ns]\n",
      " 2   group         9438 non-null   object        \n",
      " 3   landing_page  9438 non-null   object        \n",
      " 4   converted     9438 non-null   int64         \n",
      " 5   day           9438 non-null   int64         \n",
      "dtypes: datetime64[ns](1), int64(3), object(2)\n",
      "memory usage: 442.5+ KB\n"
     ]
    }
   ],
   "source": [
    "# Check the datatypes\n",
    "ab_test.info()"
   ]
  },
  {
   "cell_type": "code",
   "execution_count": 202,
   "id": "15a54865",
   "metadata": {},
   "outputs": [
    {
     "data": {
      "text/html": [
       "<div>\n",
       "<style scoped>\n",
       "    .dataframe tbody tr th:only-of-type {\n",
       "        vertical-align: middle;\n",
       "    }\n",
       "\n",
       "    .dataframe tbody tr th {\n",
       "        vertical-align: top;\n",
       "    }\n",
       "\n",
       "    .dataframe thead th {\n",
       "        text-align: right;\n",
       "    }\n",
       "</style>\n",
       "<table border=\"1\" class=\"dataframe\">\n",
       "  <thead>\n",
       "    <tr style=\"text-align: right;\">\n",
       "      <th></th>\n",
       "      <th>user_id</th>\n",
       "      <th>timestamp</th>\n",
       "      <th>group</th>\n",
       "      <th>landing_page</th>\n",
       "      <th>converted</th>\n",
       "      <th>day</th>\n",
       "    </tr>\n",
       "  </thead>\n",
       "  <tbody>\n",
       "    <tr>\n",
       "      <th>0</th>\n",
       "      <td>740761</td>\n",
       "      <td>2017-01-19 23:06:22.166842</td>\n",
       "      <td>control</td>\n",
       "      <td>old_page</td>\n",
       "      <td>0</td>\n",
       "      <td>19</td>\n",
       "    </tr>\n",
       "    <tr>\n",
       "      <th>1</th>\n",
       "      <td>685906</td>\n",
       "      <td>2017-01-15 13:37:19.383548</td>\n",
       "      <td>control</td>\n",
       "      <td>old_page</td>\n",
       "      <td>0</td>\n",
       "      <td>15</td>\n",
       "    </tr>\n",
       "  </tbody>\n",
       "</table>\n",
       "</div>"
      ],
      "text/plain": [
       "   user_id                  timestamp    group landing_page  converted  day\n",
       "0   740761 2017-01-19 23:06:22.166842  control     old_page          0   19\n",
       "1   685906 2017-01-15 13:37:19.383548  control     old_page          0   15"
      ]
     },
     "execution_count": 202,
     "metadata": {},
     "output_type": "execute_result"
    }
   ],
   "source": [
    "ab_test.head(2)"
   ]
  },
  {
   "cell_type": "code",
   "execution_count": 205,
   "id": "ae171c06",
   "metadata": {},
   "outputs": [
    {
     "data": {
      "text/html": [
       "<div>\n",
       "<style scoped>\n",
       "    .dataframe tbody tr th:only-of-type {\n",
       "        vertical-align: middle;\n",
       "    }\n",
       "\n",
       "    .dataframe tbody tr th {\n",
       "        vertical-align: top;\n",
       "    }\n",
       "\n",
       "    .dataframe thead th {\n",
       "        text-align: right;\n",
       "    }\n",
       "</style>\n",
       "<table border=\"1\" class=\"dataframe\">\n",
       "  <thead>\n",
       "    <tr style=\"text-align: right;\">\n",
       "      <th></th>\n",
       "      <th>count</th>\n",
       "      <th>mean</th>\n",
       "      <th>std</th>\n",
       "      <th>min</th>\n",
       "      <th>25%</th>\n",
       "      <th>50%</th>\n",
       "      <th>75%</th>\n",
       "      <th>max</th>\n",
       "    </tr>\n",
       "    <tr>\n",
       "      <th>group</th>\n",
       "      <th></th>\n",
       "      <th></th>\n",
       "      <th></th>\n",
       "      <th></th>\n",
       "      <th></th>\n",
       "      <th></th>\n",
       "      <th></th>\n",
       "      <th></th>\n",
       "    </tr>\n",
       "  </thead>\n",
       "  <tbody>\n",
       "    <tr>\n",
       "      <th>control</th>\n",
       "      <td>4719.0</td>\n",
       "      <td>0.11104</td>\n",
       "      <td>0.314216</td>\n",
       "      <td>0.0</td>\n",
       "      <td>0.0</td>\n",
       "      <td>0.0</td>\n",
       "      <td>0.0</td>\n",
       "      <td>1.0</td>\n",
       "    </tr>\n",
       "    <tr>\n",
       "      <th>treatment</th>\n",
       "      <td>4719.0</td>\n",
       "      <td>0.12100</td>\n",
       "      <td>0.326162</td>\n",
       "      <td>0.0</td>\n",
       "      <td>0.0</td>\n",
       "      <td>0.0</td>\n",
       "      <td>0.0</td>\n",
       "      <td>1.0</td>\n",
       "    </tr>\n",
       "  </tbody>\n",
       "</table>\n",
       "</div>"
      ],
      "text/plain": [
       "            count     mean       std  min  25%  50%  75%  max\n",
       "group                                                        \n",
       "control    4719.0  0.11104  0.314216  0.0  0.0  0.0  0.0  1.0\n",
       "treatment  4719.0  0.12100  0.326162  0.0  0.0  0.0  0.0  1.0"
      ]
     },
     "execution_count": 205,
     "metadata": {},
     "output_type": "execute_result"
    }
   ],
   "source": [
    "# Mean and standard devation of the control and treatment groups\n",
    "ab_test.groupby('group')['converted'].describe()"
   ]
  },
  {
   "cell_type": "markdown",
   "id": "fbb3dff0",
   "metadata": {},
   "source": [
    "* Standard error of the mean (SEM) measures how far the sample mean of the data is likely to be from the true population mean. \n",
    "* Therefore it measures how much discrepancy is likely in a sample’s mean compared with the population mean."
   ]
  },
  {
   "cell_type": "code",
   "execution_count": 206,
   "id": "c4d9a213",
   "metadata": {},
   "outputs": [
    {
     "name": "stdout",
     "output_type": "stream",
     "text": [
      "0.00514698647236823\n",
      "0.00514698647236823\n"
     ]
    }
   ],
   "source": [
    "# Standard error of the mean\n",
    "print(sem(ab_test['group']=='control'))\n",
    "print(sem(ab_test['group']=='treatment'))"
   ]
  },
  {
   "cell_type": "markdown",
   "id": "16647eb0",
   "metadata": {},
   "source": [
    "The treatment group appears to have performed a little better on conversion rates"
   ]
  },
  {
   "cell_type": "code",
   "execution_count": 208,
   "id": "7451f426",
   "metadata": {},
   "outputs": [
    {
     "data": {
      "image/png": "[encoded data removed]",
      "text/plain": [
       "<Figure size 600x600 with 1 Axes>"
      ]
     },
     "metadata": {},
     "output_type": "display_data"
    }
   ],
   "source": [
    "# Plot the two groups\n",
    "plt.figure(figsize=(6,6))\n",
    "sns.barplot(x=ab_test['group'], y=ab_test['converted'], ci=False)\n",
    "plt.ylim(0, 0.17)\n",
    "plt.title('Conversion rate by group', pad=20)\n",
    "plt.xlabel('Group', labelpad=15)\n",
    "plt.ylabel('Converted (proportion)', labelpad=15);"
   ]
  },
  {
   "cell_type": "markdown",
   "id": "ef06c435",
   "metadata": {},
   "source": [
    "## Statistical Significance of the Result"
   ]
  },
  {
   "cell_type": "markdown",
   "id": "e839e5c3",
   "metadata": {},
   "source": [
    "* Large sample so we can use the normal distribution\n",
    "* If sample <30 then we would use the t-test"
   ]
  },
  {
   "cell_type": "code",
   "execution_count": 217,
   "id": "0574c027",
   "metadata": {},
   "outputs": [],
   "source": [
    "# Split into control and treatment groups\n",
    "control_results = ab_test[ab_test['group'] == 'control']['converted']\n",
    "treatment_results = ab_test[ab_test['group'] == 'treatment']['converted']\n",
    "\n",
    "# Get the numbers of converts for each series of control and treatment groups\n",
    "num_con = control_results.count()\n",
    "num_treat = treatment_results.count()\n",
    "\n",
    "# Determine the number of successful conversions and get the total in each group - to get proportions\n",
    "successes = [control_results.sum(), treatment_results.sum()]\n",
    "num_obs = [num_con, num_treat]\n",
    "\n",
    "# get the z statistic, p-value for the successes as proportion of observations\n",
    "z_stat, pval = proportions_ztest(successes, nobs=nobs)\n",
    "\n",
    "# get the confidence intervals - upper and lower - for the control and treatment groups\n",
    "(lower_control, lower_treatment), (upper_control, upper_treatment) = proportion_confint(successes, nobs=num_obs, alpha=0.05)"
   ]
  },
  {
   "cell_type": "code",
   "execution_count": 221,
   "id": "de2ee091",
   "metadata": {},
   "outputs": [
    {
     "name": "stdout",
     "output_type": "stream",
     "text": [
      "Z-statistic: -1.5106702028079741\n",
      "p-value: 0.13087249779105897\n",
      "\n",
      "\n",
      "Control Group: 0.10207641475315872 0.1200045346005179\n",
      "Treatment Group: 0.1116953367011709 0.13030508711743474\n"
     ]
    }
   ],
   "source": [
    "print(\"Z-statistic:\",z_stat)\n",
    "print(\"p-value:\", pval)\n",
    "print(\"\\n\")\n",
    "print(\"Control Group:\",lower_control, upper_control)\n",
    "print(\"Treatment Group:\",lower_treatment, upper_treatment)"
   ]
  },
  {
   "cell_type": "markdown",
   "id": "d06d8944",
   "metadata": {},
   "source": [
    "## Results"
   ]
  },
  {
   "cell_type": "markdown",
   "id": "1b4dd97f",
   "metadata": {},
   "source": [
    "* The p-value is 0.13 which is above the α=0.05 threshold\n",
    "* We cannot reject the Null hypothesis Hₒ\n",
    "* The new design did not perform significantly differently to the old one\n",
    "* The confidence interval for the new webpage group is 11.2 to 13.0 which just contains the 13% conversion rate but not the 15%\n",
    "* Therefore we can conclude that the real conversion rate for the new webpage is similar to this baseline of 13%, so the new design is not really an improvement on the original webpage."
   ]
  }
 ],
 "metadata": {
  "kernelspec": {
   "display_name": "Python 3 (ipykernel)",
   "language": "python",
   "name": "python3"
  },
  "language_info": {
   "codemirror_mode": {
    "name": "ipython",
    "version": 3
   },
   "file_extension": ".py",
   "mimetype": "text/x-python",
   "name": "python",
   "nbconvert_exporter": "python",
   "pygments_lexer": "ipython3",
   "version": "3.8.12"
  }
 },
 "nbformat": 4,
 "nbformat_minor": 5
}
